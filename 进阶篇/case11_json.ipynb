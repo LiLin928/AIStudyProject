{
 "cells": [
  {
   "cell_type": "code",
   "execution_count": null,
   "metadata": {},
   "outputs": [],
   "source": [
    "import json\n",
    "def main(arg1: str) -> dict:\n",
    "    try:\n",
    "        # 解析JSON字符串并自动处理Unicode转义\n",
    "        data = json.loads(arg1)\n",
    "        \n",
    "        # 带格式优化的内容提取\n",
    "        if 'content' in data:\n",
    "            # 执行三阶格式处理：\n",
    "            # 1. 去除首尾空白 2.合并连续空行 3.保留自然段落\n",
    "            formatted_content = data['content'].strip().replace('\\n\\n', '\\n')\n",
    "            return {\n",
    "                \"result\":formatted_content\n",
    "                } \n",
    "        return {\n",
    "                \"result\":\"[ERROR] 文档缺少content字段\"\n",
    "                } \n",
    "    \n",
    "    except json.JSONDecodeError as e:\n",
    "        return {\n",
    "                \"result\":f\"[CRITICAL] JSON格式异常: {str(e)}\"\n",
    "                } \n",
    "    except TypeError:\n",
    "        return {\n",
    "                \"result\":\"[WARNING] 输入必须为有效字符串\"\n",
    "                } \n"
   ]
  }
 ],
 "metadata": {
  "language_info": {
   "name": "python"
  }
 },
 "nbformat": 4,
 "nbformat_minor": 2
}
