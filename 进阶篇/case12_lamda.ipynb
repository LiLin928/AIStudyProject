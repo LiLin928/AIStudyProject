{
 "cells": [
  {
   "cell_type": "code",
   "execution_count": 1,
   "metadata": {},
   "outputs": [
    {
     "name": "stdout",
     "output_type": "stream",
     "text": [
      "3\n",
      "3\n",
      "\u001b[0;36m床前明月光，\n",
      "疑是地上霜。\n",
      "举头望明月，\n",
      "低头思故乡。\u001b[0m\n"
     ]
    }
   ],
   "source": [
    "def func1(a,b):\n",
    "    return a+b;\n",
    "func2 = lambda a,b: a+b;\n",
    "print(func1(1,2));\n",
    "print(func2(1,2));\n",
    "func3= lambda a,b:a if a>b else b;\n",
    "func3(6,8)\n",
    "print('\\033[0;36m床前明月光，')\n",
    "print('疑是地上霜。')\n",
    "print('举头望明月，')\n",
    "print('低头思故乡。\\033[0m')"
   ]
  }
 ],
 "metadata": {
  "kernelspec": {
   "display_name": "Python 3 (ipykernel)",
   "language": "python",
   "name": "python3"
  },
  "language_info": {
   "codemirror_mode": {
    "name": "ipython",
    "version": 3
   },
   "file_extension": ".py",
   "mimetype": "text/x-python",
   "name": "python",
   "nbconvert_exporter": "python",
   "pygments_lexer": "ipython3",
   "version": "3.12.9"
  }
 },
 "nbformat": 4,
 "nbformat_minor": 4
}
