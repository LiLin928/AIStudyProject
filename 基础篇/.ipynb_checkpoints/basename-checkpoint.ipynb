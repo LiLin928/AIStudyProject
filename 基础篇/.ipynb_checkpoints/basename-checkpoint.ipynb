{
 "cells": [
  {
   "cell_type": "code",
   "execution_count": null,
   "metadata": {},
   "outputs": [],
   "source": [
    "print('basename.py') #自己或者别人导入该模块时，都会执行该模块中的代码\n",
    "def test():\n",
    "    print('test')\n",
    "if __name__ == '__main__':\n",
    "    print('basename.py is being run directly')\n",
    "else:\n",
    "    print('basename.py is being imported into another module')\n",
    "# 输出\n",
    "# basename.py\n",
    "# basename.py is being run directly"
   ]
  }
 ],
 "metadata": {
  "language_info": {
   "name": "python"
  }
 },
 "nbformat": 4,
 "nbformat_minor": 2
}
