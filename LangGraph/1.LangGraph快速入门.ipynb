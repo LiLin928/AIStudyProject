{
 "cells": [
  {
   "cell_type": "markdown",
   "id": "44c1ed83-f792-4f00-bbd6-8e0fb29448a6",
   "metadata": {},
   "source": [
    "# <center> LangGraph快速入门与Agent开发实战\n",
    "# <center> Part 1.LangGraph快速入门"
   ]
  },
  {
   "cell_type": "markdown",
   "id": "6f70a667-ac68-46c4-b40a-53b9bb5a3b35",
   "metadata": {},
   "source": [
    "## 一、LangGraph 生态介绍"
   ]
  },
  {
   "cell_type": "markdown",
   "id": "871f1212-5c3b-47f1-8c95-bd47d3ca68d5",
   "metadata": {},
   "source": [
    "&emsp;&emsp;随着大模型应用日趋复杂，开发者需要一种既能利用 `Agent` 灵活性又能保证可靠性的基础设施。`LangChain`通过 “Chain” 工作流（固定顺序步骤）虽然简单但缺乏适应性，而完全自主的 `Agent` 虽灵活却容易不可控。`LangGraph` 正是在这种背景下出现，核心定位是低门槛构建“可控且持久”的智能代理流程，以平衡确定性和自主性的取舍\n",
    "\n",
    "&emsp;&emsp;`LangGraph` 是由 `LangChain AI` 团队于 2023 年 8 月 11 日正式开源的 `AI Agent` 框架，旨在支撑和编排复杂的生成式 `AI Agent` 工作流。`LangGraph` 主要针对构建长时间运行、可回溯的智能体流程所面临的挑战提供一些特定的解决方案，包括：\n",
    "\n",
    "- **可靠性与持续性：** 提供持久化执行能力，使 `Agent` 即使在失败后也能从中断处恢复，支持长时任务不中断运行，例如在复杂业务流程或多轮对话中，`Agent` 可以保存中间状态，避免上下文丢失。\n",
    "\n",
    "- **状态与记忆：** 内置短期工作记忆和长期存储记忆，允许 `Agent` 跨对话会话保留上下文，这解决了以往仅依赖模型上下文窗口导致的记忆局限，使 `Agent` 能“记住”历史互动，提供更连贯的服务。\n",
    "\n",
    "- **人机协作与监督：** 引入Human-in-the-loop（人类在环）机制，支持在关键步骤由人审核或干预，以防止`Agent`偏离正确轨道，这使企业能在敏感任务中加入人工把关，提升最终结果可信度。\n",
    "\n",
    "- **调试与可观测性：** 通过与 `LangSmith` 、`LangGraph Studio`等工具集成，实现对复杂 `Agent` 行为的可视化追踪和调试，开发者可以观察每步决策、工具调用、状态变化，方便定位问题，优化 `Agent` 策略。\n",
    "\n",
    "- **生产级扩展：** 提供面向生产的部署支持，包括水平扩展、任务队列、缓存重试等容错机制，帮助 `Agent` 应对大规模并发和长流程的稳定运行。这使企业能在敏感任务中加入人工把关，提升最终结果可信度。"
   ]
  },
  {
   "cell_type": "markdown",
   "id": "f972243b-c699-415d-a39e-e36b7e79e234",
   "metadata": {},
   "source": [
    "&emsp;&emsp;其官方开源地址：https://github.com/langchain-ai/langgraph"
   ]
  },
  {
   "cell_type": "markdown",
   "id": "a8d0d356-6f2a-44af-a33a-cbd3f31bf0e7",
   "metadata": {},
   "source": [
    "<div align=center><img src=\"https://muyu20241105.oss-cn-beijing.aliyuncs.com/images/202506161908483.png\" width=60%></div>"
   ]
  },
  {
   "cell_type": "markdown",
   "id": "8aee5924-f705-45a8-900e-8ee54f8f2982",
   "metadata": {},
   "source": [
    "&emsp;&emsp;`LangGraph` 本质上是对原有 `LangChain` 功能的演进和补充。`LangChain` 一直以简洁的接口帮助开发者将大模型应用串联（链式）起来，实现提示模板、外部工具调用、Retrieval等功能。如下图所示：\n",
    "\n",
    "<div align=center><img src=\"https://muyu20241105.oss-cn-beijing.aliyuncs.com/images/202506161910309.png\" width=60%></div>"
   ]
  },
  {
   "cell_type": "markdown",
   "id": "c2a652b8-a129-4c53-b14c-3114e33e8c13",
   "metadata": {},
   "source": [
    "&emsp;&emsp;然而，随着用例复杂度提升，`LangChain` 原有的链式代理在状态管理、多分支流程等方面显得局限。`LangGraph` 因此作为独立库发布（Python 和 JS 版本均有），但与 `LangChain` 无缝集成：开发者仍可利用 `LangChain` 丰富的模型接口、向量库、工具集，只是用 `LangGraph` 来编排更复杂的控制流。可以理解为 “`LangChain` 提供组件，`LangGraph` 负责编排”，两者协同构建完整应用。\n",
    "\n",
    "<div align=center><img src=\"https://muyu20241105.oss-cn-beijing.aliyuncs.com/images/202506161912201.png\" width=60%></div>"
   ]
  },
  {
   "cell_type": "markdown",
   "id": "943bebdc-cead-4ae3-acc5-633c06bbe1b5",
   "metadata": {},
   "source": [
    "&emsp;&emsp;顾名思义，`LangGraph` 框架的核心理念是图，**它的出现是`要解决线性序列的局限性问题，而解决的方法就是循环图`** 在`LangGraph`框架中，**用图取代了`LangChain`的`AgentExecutor`（代理执行器），用来管理代理的生命周期并在其状态内将暂存器作为消息进行跟踪，增加了以循环方式跨各种计算步骤协调多个链或参与者的功能。**这就与 `LangChain` 将代理视为可以附加工具和插入某些提示的对象不同，对于图来说，意味着**我们可以从任何可运行的功能或代理或链作为一个程序的起点。**\n"
   ]
  },
  {
   "cell_type": "markdown",
   "id": "970d0451-8599-46ec-8405-e1d5d244832d",
   "metadata": {},
   "source": [
    "&emsp;&emsp;因此，其实`LangChain` 与 `LangGraph` 是互补关系：但相较于`LangChain`，`LangGraph`是一个适用范围更广的`AI Agent`开发框架。在**大模型的支持方面**，`LangGraph`支持`DeepSeek`、`Qwen 3`等，还兼容其他多种在线或开源模型，例如 `OpenAI`、`llama3`等，可以说热门的大模型均可以接入到该框架中进行`AI Agent`应用程序的开发。而关于**大模型的接入方式**，我们既可以通过传统的`openai api`等原生方式将大模型集成到`LangGraph`构建的`AI Agent`流程中，也可以利用`ollma`、`vllm`等大模型推理加速库，实现更加便捷和高效的集成。除此之外，**在`AI Agent`的构建范式上**，`LangGraph`不仅提供了预配置的`ReAct`代理机制，还支持更多自定义的如`Planning`策略的接入，以满足不同应用场景的需求。"
   ]
  },
  {
   "cell_type": "markdown",
   "id": "c30b5b64-ebdc-4daa-81ab-898f02749db1",
   "metadata": {},
   "source": [
    "&emsp;&emsp;当前业界除了 `LangGraph`，还有多种框架支持 `Agent` 应用开发，如微软的 `AutoGen`、开源平台 `Dify`、谷歌的 `Agent Development Kit (ADK)` 等等，与其他框架相比，`LangGraph` 最大的优势在于流程编排的灵活性、原生支持持久化记忆和强大的人机协同机制。它适合企业级、任务复杂、需要过程审计的业务场景。"
   ]
  },
  {
   "cell_type": "markdown",
   "id": "4ffb13e3-3bee-46fc-8804-e50e267bec7b",
   "metadata": {},
   "source": [
    "<style>\n",
    ".center \n",
    "{\n",
    "  width: auto;\n",
    "  display: table;\n",
    "  margin-left: auto;\n",
    "  margin-right: auto;\n",
    "}\n",
    "</style>\n",
    "\n",
    "<p align=\"center\"><font face=\"黑体\" size=4>LangGraph 与其它框架对比</font></p>\n",
    "<div class=\"center\">\n",
    "\n",
    "| 框架       | 架构特点             | 主要优势                             | 适用场景                   | 局限/劣势                            |\n",
    "|------------|----------------------|--------------------------------------|----------------------------|---------------------------------------|\n",
    "| LangGraph  | 图流程编排+状态持久  | 流程灵活、可控、原生记忆、人机协同   | 企业复杂流程、定制化Agent  | 考验开发人员的研发能力               |\n",
    "| AutoGen    | 多Agent对话协作      | 自由协作、创新AI社会实验             | 多智能体协作/AI研究        | 流程难控，生产可用性弱                |\n",
    "| Dify       | 平台化+零代码        | 快速开发、可视化、插件丰富           | 快速原型/简单业务集成      | 自由度低，复杂流程定制受限            |\n",
    "| Google ADK | 云原生+企业集成      | 易部署、性能强    | 大型企业/谷歌云用户        | 生态绑定谷歌，灵活度相对较低              |"
   ]
  },
  {
   "cell_type": "markdown",
   "id": "9aa9d213-85de-4a1e-acf5-7862ec9472e6",
   "metadata": {},
   "source": [
    "- LangChain公开课参考：https://www.bilibili.com/video/BV1pYKgzAE5C/"
   ]
  },
  {
   "cell_type": "markdown",
   "id": "03d6a31e-e50a-494b-b4ed-8f6e00621d61",
   "metadata": {},
   "source": [
    "<center><img src=\"https://ml2022.oss-cn-hangzhou.aliyuncs.com/img/image-20250624201947404.png\" alt=\"image-20250624201947404\" style=\"zoom: 33%;\" />"
   ]
  },
  {
   "cell_type": "markdown",
   "id": "41ed83f6-9ab3-4182-85be-d75c127a5ab1",
   "metadata": {},
   "source": [
    "## 二、LangGraph图结构对象创建方法与核心语法"
   ]
  },
  {
   "cell_type": "markdown",
   "id": "f8c3c5be-e9f6-45f9-a06c-165a2383fca9",
   "metadata": {},
   "source": [
    "&emsp;&emsp;本次公开课使用的版本是：`langgraph==0.4.8`"
   ]
  },
  {
   "cell_type": "code",
   "execution_count": 1,
   "id": "c4e6b0e1-5ce3-4ba3-b27d-7035b2717c31",
   "metadata": {
    "scrolled": true
   },
   "outputs": [
    {
     "name": "stdout",
     "output_type": "stream",
     "text": [
      "Collecting langgraph\n",
      "  Downloading langgraph-0.4.8-py3-none-any.whl.metadata (6.8 kB)\n",
      "Requirement already satisfied: langchain-core>=0.1 in /root/anaconda3/lib/python3.12/site-packages (from langgraph) (0.3.65)\n",
      "Collecting langgraph-checkpoint>=2.0.26 (from langgraph)\n",
      "  Downloading langgraph_checkpoint-2.1.0-py3-none-any.whl.metadata (4.2 kB)\n",
      "Collecting langgraph-prebuilt>=0.2.0 (from langgraph)\n",
      "  Downloading langgraph_prebuilt-0.2.2-py3-none-any.whl.metadata (4.5 kB)\n",
      "Collecting langgraph-sdk>=0.1.42 (from langgraph)\n",
      "  Downloading langgraph_sdk-0.1.70-py3-none-any.whl.metadata (1.5 kB)\n",
      "Requirement already satisfied: pydantic>=2.7.4 in /root/anaconda3/lib/python3.12/site-packages (from langgraph) (2.11.4)\n",
      "Requirement already satisfied: xxhash>=3.5.0 in /root/anaconda3/lib/python3.12/site-packages (from langgraph) (3.5.0)\n",
      "Requirement already satisfied: langsmith<0.4,>=0.3.45 in /root/anaconda3/lib/python3.12/site-packages (from langchain-core>=0.1->langgraph) (0.3.45)\n",
      "Requirement already satisfied: tenacity!=8.4.0,<10.0.0,>=8.1.0 in /root/anaconda3/lib/python3.12/site-packages (from langchain-core>=0.1->langgraph) (8.5.0)\n",
      "Requirement already satisfied: jsonpatch<2.0,>=1.33 in /root/anaconda3/lib/python3.12/site-packages (from langchain-core>=0.1->langgraph) (1.33)\n",
      "Requirement already satisfied: PyYAML>=5.3 in /root/anaconda3/lib/python3.12/site-packages (from langchain-core>=0.1->langgraph) (6.0.1)\n",
      "Requirement already satisfied: packaging<25,>=23.2 in /root/anaconda3/lib/python3.12/site-packages (from langchain-core>=0.1->langgraph) (24.1)\n",
      "Requirement already satisfied: typing-extensions>=4.7 in /root/anaconda3/lib/python3.12/site-packages (from langchain-core>=0.1->langgraph) (4.13.2)\n",
      "Collecting ormsgpack>=1.10.0 (from langgraph-checkpoint>=2.0.26->langgraph)\n",
      "  Downloading ormsgpack-1.10.0-cp312-cp312-manylinux_2_17_x86_64.manylinux2014_x86_64.whl.metadata (43 kB)\n",
      "\u001b[2K     \u001b[90m━━━━━━━━━━━━━━━━━━━━━━━━━━━━━━━━━━━━━━━━\u001b[0m \u001b[32m43.7/43.7 kB\u001b[0m \u001b[31m14.2 kB/s\u001b[0m eta \u001b[36m0:00:00\u001b[0ma \u001b[36m0:00:01\u001b[0m\n",
      "\u001b[?25hRequirement already satisfied: httpx>=0.25.2 in /root/anaconda3/lib/python3.12/site-packages (from langgraph-sdk>=0.1.42->langgraph) (0.28.1)\n",
      "Requirement already satisfied: orjson>=3.10.1 in /root/anaconda3/lib/python3.12/site-packages (from langgraph-sdk>=0.1.42->langgraph) (3.10.13)\n",
      "Requirement already satisfied: annotated-types>=0.6.0 in /root/anaconda3/lib/python3.12/site-packages (from pydantic>=2.7.4->langgraph) (0.6.0)\n",
      "Requirement already satisfied: pydantic-core==2.33.2 in /root/anaconda3/lib/python3.12/site-packages (from pydantic>=2.7.4->langgraph) (2.33.2)\n",
      "Requirement already satisfied: typing-inspection>=0.4.0 in /root/anaconda3/lib/python3.12/site-packages (from pydantic>=2.7.4->langgraph) (0.4.0)\n",
      "Requirement already satisfied: anyio in /root/anaconda3/lib/python3.12/site-packages (from httpx>=0.25.2->langgraph-sdk>=0.1.42->langgraph) (4.8.0)\n",
      "Requirement already satisfied: certifi in /root/anaconda3/lib/python3.12/site-packages (from httpx>=0.25.2->langgraph-sdk>=0.1.42->langgraph) (2024.2.2)\n",
      "Requirement already satisfied: httpcore==1.* in /root/anaconda3/lib/python3.12/site-packages (from httpx>=0.25.2->langgraph-sdk>=0.1.42->langgraph) (1.0.7)\n",
      "Requirement already satisfied: idna in /root/anaconda3/lib/python3.12/site-packages (from httpx>=0.25.2->langgraph-sdk>=0.1.42->langgraph) (3.7)\n",
      "Requirement already satisfied: h11<0.15,>=0.13 in /root/anaconda3/lib/python3.12/site-packages (from httpcore==1.*->httpx>=0.25.2->langgraph-sdk>=0.1.42->langgraph) (0.14.0)\n",
      "Requirement already satisfied: jsonpointer>=1.9 in /root/anaconda3/lib/python3.12/site-packages (from jsonpatch<2.0,>=1.33->langchain-core>=0.1->langgraph) (2.1)\n",
      "Requirement already satisfied: requests<3,>=2 in /root/anaconda3/lib/python3.12/site-packages (from langsmith<0.4,>=0.3.45->langchain-core>=0.1->langgraph) (2.32.3)\n",
      "Requirement already satisfied: requests-toolbelt<2.0.0,>=1.0.0 in /root/anaconda3/lib/python3.12/site-packages (from langsmith<0.4,>=0.3.45->langchain-core>=0.1->langgraph) (1.0.0)\n",
      "Requirement already satisfied: zstandard<0.24.0,>=0.23.0 in /root/anaconda3/lib/python3.12/site-packages (from langsmith<0.4,>=0.3.45->langchain-core>=0.1->langgraph) (0.23.0)\n",
      "Requirement already satisfied: charset-normalizer<4,>=2 in /root/anaconda3/lib/python3.12/site-packages (from requests<3,>=2->langsmith<0.4,>=0.3.45->langchain-core>=0.1->langgraph) (2.0.4)\n",
      "Requirement already satisfied: urllib3<3,>=1.21.1 in /root/anaconda3/lib/python3.12/site-packages (from requests<3,>=2->langsmith<0.4,>=0.3.45->langchain-core>=0.1->langgraph) (2.2.2)\n",
      "Requirement already satisfied: sniffio>=1.1 in /root/anaconda3/lib/python3.12/site-packages (from anyio->httpx>=0.25.2->langgraph-sdk>=0.1.42->langgraph) (1.3.0)\n",
      "Downloading langgraph-0.4.8-py3-none-any.whl (152 kB)\n",
      "\u001b[2K   \u001b[90m━━━━━━━━━━━━━━━━━━━━━━━━━━━━━━━━━━━━━━━━\u001b[0m \u001b[32m152.4/152.4 kB\u001b[0m \u001b[31m6.7 kB/s\u001b[0m eta \u001b[36m0:00:00\u001b[0ma \u001b[36m0:00:02\u001b[0m\n",
      "\u001b[?25hDownloading langgraph_checkpoint-2.1.0-py3-none-any.whl (43 kB)\n",
      "\u001b[2K   \u001b[90m━━━━━━━━━━━━━━━━━━━━━━━━━━━━━━━━━━━━━━━━\u001b[0m \u001b[32m43.8/43.8 kB\u001b[0m \u001b[31m26.7 kB/s\u001b[0m eta \u001b[36m0:00:00\u001b[0ma \u001b[36m0:00:01\u001b[0m\n",
      "\u001b[?25hDownloading langgraph_prebuilt-0.2.2-py3-none-any.whl (23 kB)\n",
      "Downloading langgraph_sdk-0.1.70-py3-none-any.whl (49 kB)\n",
      "\u001b[2K   \u001b[90m━━━━━━━━━━━━━━━━━━━━━━━━━━━━━━━━━━━━━━━━\u001b[0m \u001b[32m50.0/50.0 kB\u001b[0m \u001b[31m27.4 kB/s\u001b[0m eta \u001b[36m0:00:00\u001b[0ma \u001b[36m0:00:01\u001b[0m\n",
      "\u001b[?25hDownloading ormsgpack-1.10.0-cp312-cp312-manylinux_2_17_x86_64.manylinux2014_x86_64.whl (216 kB)\n",
      "\u001b[2K   \u001b[90m━━━━━━━━━━━━━━━━━━━━━━━━━━━━━━━━━━━━━━━━\u001b[0m \u001b[32m216.7/216.7 kB\u001b[0m \u001b[31m10.7 kB/s\u001b[0m eta \u001b[36m0:00:00\u001b[0m00:01\u001b[0m00:02\u001b[0m\n",
      "\u001b[?25hInstalling collected packages: ormsgpack, langgraph-sdk, langgraph-checkpoint, langgraph-prebuilt, langgraph\n",
      "Successfully installed langgraph-0.4.8 langgraph-checkpoint-2.1.0 langgraph-prebuilt-0.2.2 langgraph-sdk-0.1.70 ormsgpack-1.10.0\n",
      "\u001b[33mWARNING: Running pip as the 'root' user can result in broken permissions and conflicting behaviour with the system package manager. It is recommended to use a virtual environment instead: https://pip.pypa.io/warnings/venv\u001b[0m\u001b[33m\n",
      "\u001b[0m"
     ]
    }
   ],
   "source": [
    "! pip install langgraph -i https://pypi.tuna.tsinghua.edu.cn/simple"
   ]
  },
  {
   "cell_type": "code",
   "execution_count": 1,
   "id": "b9174fa3-79e8-4669-89ac-7f70d1b40784",
   "metadata": {},
   "outputs": [
    {
     "name": "stdout",
     "output_type": "stream",
     "text": [
      "Name: langgraph\n",
      "Version: 0.4.8\n",
      "Summary: Building stateful, multi-actor applications with LLMs\n",
      "Home-page: \n",
      "Author: \n",
      "Author-email: \n",
      "License: \n",
      "Location: /root/anaconda3/lib/python3.12/site-packages\n",
      "Requires: langchain-core, langgraph-checkpoint, langgraph-prebuilt, langgraph-sdk, pydantic, xxhash\n",
      "Required-by: \n"
     ]
    }
   ],
   "source": [
    "! pip show langgraph"
   ]
  },
  {
   "cell_type": "markdown",
   "id": "02b6b9fa-4978-471c-a625-21d3e2bc0ffb",
   "metadata": {},
   "source": [
    "### 1. LangChain图结构概念说明"
   ]
  },
  {
   "cell_type": "markdown",
   "id": "0611ac51-b4b6-439b-92a8-0da17cd40536",
   "metadata": {},
   "source": [
    "&emsp;&emsp;在以图构建的框架中，**任何可执行的功能都可以作为对话、代理或程序的启动点**。这个启动点可以是大模型的 `API` 接口、基于大模型构建的 `AI Agent`，通过 `LangChain` 或其他技术建立的线性序列等等，即下图中的 \"Start\" 圆圈所示。无论哪种形式，它都首先处理用户的输入，并决定接下来要做什么。下图展示了在 `LangGraph` 概念下，最基本的一种代理模型：👇\n",
    "\n",
    "<div align=center><img src=\"https://muyu001.oss-cn-beijing.aliyuncs.com/img/1011002.png\" width=50%></div>"
   ]
  },
  {
   "cell_type": "markdown",
   "id": "4b4ae13a-99e8-47ff-a0cc-f338c9acd236",
   "metadata": {},
   "source": [
    "&emsp;&emsp;如上图所示，**在启动点定义的可运行功能会根据收到的输入决定是否进行检索以及如何响应。** 比如在执行过程中，如果需要检索信息，则可以利用搜索工具来实现，如`Web Search`（网络搜索）、`Query Database`（查询数据库）、`RAG`等获取必要的信息（图中的 \"Action\" 圆圈）。接下来，再使用一个大语言模型（“LLM”）处理工具提供的信息，结合用户最初传入的初始查询，生成最终的响应（图中的 \"LLMs\" 圆圈）。最终，这个响应被传递至终点节点（图中的 \"End\" 圆圈）。"
   ]
  },
  {
   "cell_type": "markdown",
   "id": "c98ded39-b7ab-41dd-8030-23fcfbd197e4",
   "metadata": {},
   "source": [
    "&emsp;&emsp;这个流程就是在`LangGraph`框架中一个非常简单的代理构成形式。非常关键且我们必须清楚的概念是：**每个圆圈代表一个“节点”（Nodes），每个箭头表示一条“边”（Edges）。在 `LangGraph` 中，无论代理的构建是简单还是复杂，它最终都是由节点和边通过特定的组合形成的图。这样的构建形式形成的工作流原理就是：当每个节点完成工作后，通过边告诉下一步该做什么，所以也就得出了：`LangGraph`的底层图算法就是在使用消息传递来定义通用程序。当节点完成其操作时，它会沿着一条或多条边向其他节点发送消息。然后，这些接收节点执行其功能，将结果消息传递给下一组节点，然后该过程继续。如此循环往复。**"
   ]
  },
  {
   "cell_type": "markdown",
   "id": "801ecaae-c2b4-4764-8ab1-aab70c1a6ea3",
   "metadata": {},
   "source": [
    "&emsp;&emsp;**这就是`LangGraph`底层架构设计中图算法的根本思想。**"
   ]
  },
  {
   "cell_type": "markdown",
   "id": "4af934c2-d659-4af7-ab78-0ce79aa83b38",
   "metadata": {},
   "source": [
    "&emsp;&emsp;`LangGraph`框架是通过组合`Nodes`和`Edges`去创建复杂的循环工作流程，通过消息传递的方式串联所有的节点形成一个通路。**那么维持消息能够及时的更新并向该去的地方传递，则依赖`langGraph`构建的`State`概念。** 在`LangGraph`构建的流程中，每次执行都会启动一个状态，图中的节点在处理时会传递和修改该状态。这个状态不仅仅是一组静态数据，而是由每个节点的输出动态更新，然后影响循环内的后续操作。如下所示：👇"
   ]
  },
  {
   "cell_type": "markdown",
   "id": "579b3429-f8f3-4ec0-b26c-b5d966ca80e4",
   "metadata": {},
   "source": [
    "<div align=center><img src=\"https://muyu001.oss-cn-beijing.aliyuncs.com/img/101104.png\" width=90%></div>"
   ]
  },
  {
   "cell_type": "markdown",
   "id": "a6fca3cf-2950-49e4-a1ee-30adc1843171",
   "metadata": {},
   "source": [
    "&emsp;&emsp;为了帮助大家更好的理解，我们先尝试在不接入大模型的情况下，构建一个如上图所示的简单工作流。"
   ]
  },
  {
   "cell_type": "markdown",
   "id": "de565f11-fdd7-44f5-98c2-89c4723ee77c",
   "metadata": {},
   "source": [
    "### 2.手动构建图流程"
   ]
  },
  {
   "cell_type": "markdown",
   "id": "802178aa-e680-4407-84fe-b026ef256eea",
   "metadata": {},
   "source": [
    "&emsp;&emsp;定义图时要做的第一件事是定义图的`State`。状态表示会随着图计算的进行而维护和更新的上下文或记忆。它用来确保图中的每个步骤都可以访问先前步骤的相关信息，从而可以根据整个过程中积累的数据进行动态决策。这个过程通过状态图`StateGraph`类实现，它是由`LangGraph`框架提供的核心类之一，专门用来创建`state`状态。"
   ]
  },
  {
   "cell_type": "markdown",
   "id": "a2599770-4559-46b4-bfb9-5df3e91033b2",
   "metadata": {},
   "source": [
    "&emsp;&emsp;构建`state`的方法非常简答。我们可以将图的状态设计为一个字典，用于在不同节点间共享和修改数据，然后使用`StateGraph`类进行图的实例化。代码如下："
   ]
  },
  {
   "cell_type": "code",
   "execution_count": 6,
   "id": "6a1d4a5f-273b-4c2d-a6df-3c2713e85f6f",
   "metadata": {},
   "outputs": [],
   "source": [
    "from langgraph.graph import StateGraph\n",
    "\n",
    "# 使用 stategraph 接收一个字典\n",
    "builder = StateGraph(dict) "
   ]
  },
  {
   "cell_type": "code",
   "execution_count": 7,
   "id": "230ca90b-834a-401a-8ec9-5772a3d53ded",
   "metadata": {},
   "outputs": [
    {
     "data": {
      "text/plain": [
       "<langgraph.graph.state.StateGraph at 0x7fd454a46990>"
      ]
     },
     "execution_count": 7,
     "metadata": {},
     "output_type": "execute_result"
    }
   ],
   "source": [
    "builder"
   ]
  },
  {
   "cell_type": "code",
   "execution_count": 8,
   "id": "3584376d-1080-4974-bdbb-24bef1011f54",
   "metadata": {},
   "outputs": [
    {
     "data": {
      "text/plain": [
       "dict"
      ]
     },
     "execution_count": 8,
     "metadata": {},
     "output_type": "execute_result"
    }
   ],
   "source": [
    "builder.schema"
   ]
  },
  {
   "cell_type": "markdown",
   "id": "fa524862-cff6-404b-9df8-611be8cb8a45",
   "metadata": {},
   "source": [
    "这里需要注意的是，builder也是后面要用到的图构建器（Graph Builder）对象，用于逐步添加节点、边、控制流逻辑，最终编译成可执行的 LangGraph 图。而这个图构建器需要通过带入一个状态对象来创建。"
   ]
  },
  {
   "cell_type": "markdown",
   "id": "79ae9473-f569-46b4-8c00-b90498838d5a",
   "metadata": {},
   "source": [
    "&emsp;&emsp;接下来，定义两个节点。`addition`节点是一个加法逻辑，接收当前状态`StateGraph(dict)`，将字典中`x`的值增加1，并返回新的状态。而`subtraction`节点是一个减法逻辑，接收从`addition`节点传来的状态`StateGraph(dict)`，从字典中的`x`值减去2，创建并返回一个新的键y。代码如下："
   ]
  },
  {
   "cell_type": "code",
   "execution_count": 9,
   "id": "9a67d3db-505a-4b9e-b06b-907eec3015d7",
   "metadata": {},
   "outputs": [],
   "source": [
    "def addition(state):\n",
    "    # 注意：这里接收到的是初始状态\n",
    "    print(f\"init_state: {state}\")\n",
    "    return {\"x\": state[\"x\"] + 1}\n",
    "\n",
    "def subtraction(state):\n",
    "    # 注意：这里接收到的是上一个节点的状态\n",
    "    print(f\"addition_state: {state}\")\n",
    "    return {\"x\": state[\"x\"] - 2}"
   ]
  },
  {
   "cell_type": "markdown",
   "id": "ba589213-f4f6-4075-8070-8d0d1db1cde8",
   "metadata": {},
   "source": [
    "&emsp;&emsp;然后，进行图结构的设计。具体来看，我们添加名为`addition`和`subtraction`的节点，并关联到上面定义的函数。设定图的起始节点为`addition`，并从`addition`到`subtraction`设置一条边，最后从`subtraction`到结束节点设置另一条边。代码如下："
   ]
  },
  {
   "cell_type": "code",
   "execution_count": 10,
   "id": "41f04aea-0089-46f1-8b55-96fef7d66f18",
   "metadata": {},
   "outputs": [
    {
     "data": {
      "text/plain": [
       "<langgraph.graph.state.StateGraph at 0x7fd454a46990>"
      ]
     },
     "execution_count": 10,
     "metadata": {},
     "output_type": "execute_result"
    }
   ],
   "source": [
    "# START 和 END 是两个特殊的节点，分别表示图的开始和结束。\n",
    "from langgraph.graph import START, END\n",
    "\n",
    "# 向图中添加两个节点\n",
    "builder.add_node(\"addition\", addition)\n",
    "builder.add_node(\"subtraction\", subtraction)\n",
    "\n",
    "# 构建节点之间的边\n",
    "builder.add_edge(START, \"addition\")\n",
    "builder.add_edge(\"addition\", \"subtraction\")\n",
    "builder.add_edge(\"subtraction\", END)"
   ]
  },
  {
   "cell_type": "markdown",
   "id": "bc9a54c2-f57b-4aa9-9cc7-5d3dc2474fe6",
   "metadata": {},
   "source": [
    "> 注，这里我们通过节点的同名字符串作为节点的名称。"
   ]
  },
  {
   "cell_type": "code",
   "execution_count": 11,
   "id": "9c281f76-581c-452f-9ec9-57dc2d16aeaf",
   "metadata": {},
   "outputs": [
    {
     "data": {
      "text/plain": [
       "{('__start__', 'addition'),\n",
       " ('addition', 'subtraction'),\n",
       " ('subtraction', '__end__')}"
      ]
     },
     "execution_count": 11,
     "metadata": {},
     "output_type": "execute_result"
    }
   ],
   "source": [
    "builder.edges"
   ]
  },
  {
   "cell_type": "code",
   "execution_count": 12,
   "id": "87408e68-1524-4909-b73f-6b645b75d41c",
   "metadata": {},
   "outputs": [
    {
     "data": {
      "text/plain": [
       "{'addition': StateNodeSpec(runnable=addition(tags=None, recurse=True, explode_args=False, func_accepts_config=False, func_accepts={}), metadata=None, input=<class 'dict'>, retry_policy=None, cache_policy=None, ends=(), defer=False),\n",
       " 'subtraction': StateNodeSpec(runnable=subtraction(tags=None, recurse=True, explode_args=False, func_accepts_config=False, func_accepts={}), metadata=None, input=<class 'dict'>, retry_policy=None, cache_policy=None, ends=(), defer=False)}"
      ]
     },
     "execution_count": 12,
     "metadata": {},
     "output_type": "execute_result"
    }
   ],
   "source": [
    "builder.nodes"
   ]
  },
  {
   "cell_type": "markdown",
   "id": "06109bef-f904-4356-bf67-a96ea9f5854a",
   "metadata": {},
   "source": [
    "&emsp;&emsp;最后，执行图的编译。需要通过调用`compile()`方法将这些设置编译成一个可执行的图。代码如下所示："
   ]
  },
  {
   "cell_type": "code",
   "execution_count": 13,
   "id": "5230cb44-45f9-4b53-af5c-53fa6fef75fd",
   "metadata": {},
   "outputs": [],
   "source": [
    "graph = builder.compile()"
   ]
  },
  {
   "cell_type": "markdown",
   "id": "86c78759-9c2d-4fa8-9d02-94c20251aef6",
   "metadata": {},
   "source": [
    "&emsp;&emsp;除了上述通过打印的方式查看构建图的结构，`LangGraph`还提供了多种内置的图形可视化方法，能够将任何`Graph`以图形的形式展示出来，帮助我们更好地理解节点之间的关系和流程的动态变化。**可视化最大的好处是：直接从代码中生成图形化的表示，可以检查图的执行逻辑是否符合构建的预期。**"
   ]
  },
  {
   "cell_type": "markdown",
   "id": "d32f35e5-935b-4d41-ae8b-d7aa182b91b8",
   "metadata": {},
   "source": [
    "&emsp;&emsp;我们首先需要执行如下代码安装图可视化依赖的第三方库："
   ]
  },
  {
   "cell_type": "code",
   "execution_count": 3,
   "id": "c97709a9-f8af-4c4c-944d-0996b2b744f2",
   "metadata": {
    "scrolled": true
   },
   "outputs": [
    {
     "name": "stdout",
     "output_type": "stream",
     "text": [
      "Looking in indexes: https://pypi.tuna.tsinghua.edu.cn/simple\n",
      "Requirement already satisfied: pyppeteer in /root/anaconda3/lib/python3.12/site-packages (2.0.0)\n",
      "Requirement already satisfied: ipython in /root/anaconda3/lib/python3.12/site-packages (8.25.0)\n",
      "Requirement already satisfied: appdirs<2.0.0,>=1.4.3 in /root/anaconda3/lib/python3.12/site-packages (from pyppeteer) (1.4.4)\n",
      "Requirement already satisfied: certifi>=2023 in /root/anaconda3/lib/python3.12/site-packages (from pyppeteer) (2024.2.2)\n",
      "Requirement already satisfied: importlib-metadata>=1.4 in /root/anaconda3/lib/python3.12/site-packages (from pyppeteer) (7.0.1)\n",
      "Requirement already satisfied: pyee<12.0.0,>=11.0.0 in /root/anaconda3/lib/python3.12/site-packages (from pyppeteer) (11.1.1)\n",
      "Requirement already satisfied: tqdm<5.0.0,>=4.42.1 in /root/anaconda3/lib/python3.12/site-packages (from pyppeteer) (4.66.4)\n",
      "Requirement already satisfied: urllib3<2.0.0,>=1.25.8 in /root/anaconda3/lib/python3.12/site-packages (from pyppeteer) (1.26.20)\n",
      "Requirement already satisfied: websockets<11.0,>=10.0 in /root/anaconda3/lib/python3.12/site-packages (from pyppeteer) (10.4)\n",
      "Requirement already satisfied: decorator in /root/anaconda3/lib/python3.12/site-packages (from ipython) (5.1.1)\n",
      "Requirement already satisfied: jedi>=0.16 in /root/anaconda3/lib/python3.12/site-packages (from ipython) (0.18.1)\n",
      "Requirement already satisfied: matplotlib-inline in /root/anaconda3/lib/python3.12/site-packages (from ipython) (0.1.6)\n",
      "Requirement already satisfied: prompt-toolkit<3.1.0,>=3.0.41 in /root/anaconda3/lib/python3.12/site-packages (from ipython) (3.0.51)\n",
      "Requirement already satisfied: pygments>=2.4.0 in /root/anaconda3/lib/python3.12/site-packages (from ipython) (2.15.1)\n",
      "Requirement already satisfied: stack-data in /root/anaconda3/lib/python3.12/site-packages (from ipython) (0.2.0)\n",
      "Requirement already satisfied: traitlets>=5.13.0 in /root/anaconda3/lib/python3.12/site-packages (from ipython) (5.14.3)\n",
      "Requirement already satisfied: pexpect>4.3 in /root/anaconda3/lib/python3.12/site-packages (from ipython) (4.8.0)\n",
      "Requirement already satisfied: zipp>=0.5 in /root/anaconda3/lib/python3.12/site-packages (from importlib-metadata>=1.4->pyppeteer) (3.17.0)\n",
      "Requirement already satisfied: parso<0.9.0,>=0.8.0 in /root/anaconda3/lib/python3.12/site-packages (from jedi>=0.16->ipython) (0.8.3)\n",
      "Requirement already satisfied: ptyprocess>=0.5 in /root/anaconda3/lib/python3.12/site-packages (from pexpect>4.3->ipython) (0.7.0)\n",
      "Requirement already satisfied: wcwidth in /root/anaconda3/lib/python3.12/site-packages (from prompt-toolkit<3.1.0,>=3.0.41->ipython) (0.2.13)\n",
      "Requirement already satisfied: typing-extensions in /root/anaconda3/lib/python3.12/site-packages (from pyee<12.0.0,>=11.0.0->pyppeteer) (4.13.2)\n",
      "Requirement already satisfied: executing in /root/anaconda3/lib/python3.12/site-packages (from stack-data->ipython) (0.8.3)\n",
      "Requirement already satisfied: asttokens in /root/anaconda3/lib/python3.12/site-packages (from stack-data->ipython) (2.0.5)\n",
      "Requirement already satisfied: pure-eval in /root/anaconda3/lib/python3.12/site-packages (from stack-data->ipython) (0.2.2)\n",
      "Requirement already satisfied: six in /root/anaconda3/lib/python3.12/site-packages (from asttokens->stack-data->ipython) (1.16.0)\n",
      "\u001b[33mWARNING: Running pip as the 'root' user can result in broken permissions and conflicting behaviour with the system package manager. It is recommended to use a virtual environment instead: https://pip.pypa.io/warnings/venv\u001b[0m\u001b[33m\n",
      "\u001b[0m"
     ]
    }
   ],
   "source": [
    "! pip install pyppeteer ipython -i https://pypi.tuna.tsinghua.edu.cn/simple"
   ]
  },
  {
   "cell_type": "markdown",
   "id": "de3ea263-4694-4aed-a0e3-9be025587b58",
   "metadata": {},
   "source": [
    "&emsp;&emsp;生成图结构的可视化非常直接，只需一行代码即可完成。具体代码如下："
   ]
  },
  {
   "cell_type": "code",
   "execution_count": 14,
   "id": "c3c2f007-5b75-45e5-bb56-5b2cc8893cb2",
   "metadata": {},
   "outputs": [
    {
     "data": {
      "image/png": "[encoded data removed]",
      "text/plain": [
       "<IPython.core.display.Image object>"
      ]
     },
     "metadata": {},
     "output_type": "display_data"
    }
   ],
   "source": [
    "from IPython.display import Image, display\n",
    "\n",
    "display(Image(graph.get_graph(xray=True).draw_mermaid_png()))"
   ]
  },
  {
   "cell_type": "markdown",
   "id": "472b5e41-f664-4a18-815f-cefc09e2e95c",
   "metadata": {},
   "source": [
    "&emsp;&emsp;当通过 `builder.compile()` 方法编译图后，编译后的 `graph` 对象提供了 `invoke` 方法，该方法用于启动图的执行。我们可以通过 `invoke` 方法传递一个初始状态（如 `initial_state = {\"x\": 10}`），这个状态将作为图执行的起始输入。代码如下："
   ]
  },
  {
   "cell_type": "code",
   "execution_count": 9,
   "id": "872180f7-fd4b-407d-88d7-9c689d7bd3c1",
   "metadata": {},
   "outputs": [
    {
     "name": "stdout",
     "output_type": "stream",
     "text": [
      "init_state: {'x': 10}\n",
      "addition_state: {'x': 11}\n"
     ]
    },
    {
     "data": {
      "text/plain": [
       "{'x': 9}"
      ]
     },
     "execution_count": 9,
     "metadata": {},
     "output_type": "execute_result"
    }
   ],
   "source": [
    "# 定义一个初始化的状态\n",
    "initial_state = {\"x\":10}\n",
    "\n",
    "graph.invoke(initial_state)"
   ]
  },
  {
   "cell_type": "markdown",
   "id": "8f615602-74a3-4ac7-bebd-a5244c609a05",
   "metadata": {},
   "source": [
    "LangGraph 的执行模型并不强制要求图中必须有 END 节点。只要执行路径在某个节点“无后继边”（即到达“终点”），那么该节点就被视为隐式终点。"
   ]
  },
  {
   "cell_type": "markdown",
   "id": "0a3d2430-14e0-4b79-be4e-8e4815025a92",
   "metadata": {},
   "source": [
    "> 也就是说，将一个字典作为状态对象带入到图中，即可进行图的实际运行。"
   ]
  },
  {
   "cell_type": "markdown",
   "id": "cd99022c-75e8-4b5d-8691-6aba4213eb66",
   "metadata": {},
   "source": [
    "&emsp;&emsp;在图的执行过程中，每个节点的函数会被调用，并且接收到前一个节点返回的状态作为输入。每个函数处理完状态后，会输出一个新的状态，传递给下一个节点。"
   ]
  },
  {
   "cell_type": "markdown",
   "id": "620f1205-7195-4479-a291-b0225e9aaa0d",
   "metadata": {},
   "source": [
    "&emsp;&emsp;上述代码执行过程中图的运行状态如下图所示：👇"
   ]
  },
  {
   "cell_type": "markdown",
   "id": "5b3c7a8e-bb46-43f0-b170-64a1bb573c4b",
   "metadata": {},
   "source": [
    "<div align=center><img src=\"https://muyu001.oss-cn-beijing.aliyuncs.com/img/202410220010.png\" width=100%></div>"
   ]
  },
  {
   "cell_type": "markdown",
   "id": "39c856a1-f1e3-41e5-a053-92af053147be",
   "metadata": {},
   "source": [
    "这里需要注意的一个关键信息是：**节点函数不需要返回整个状态，而是仅返回它们更新的部分。** 也就是说：在每个节点的函数内部逻辑中，需要使用和更新哪些`State`中的参数中，只需要在`return`的时候指定即可，不必担心未在当前节点处理的State中的其他值会丢失，因为`LangGraph`的内部机制已经自动处理了状态的合并和维护。"
   ]
  },
  {
   "cell_type": "code",
   "execution_count": 15,
   "id": "cd595a13-ee10-496a-9169-0bd90583e4f8",
   "metadata": {},
   "outputs": [
    {
     "name": "stdout",
     "output_type": "stream",
     "text": [
      "init_state: {'x': 10, 'y': 9}\n",
      "addition_state: {'x': 11}\n"
     ]
    },
    {
     "data": {
      "text/plain": [
       "{'x': 9}"
      ]
     },
     "execution_count": 15,
     "metadata": {},
     "output_type": "execute_result"
    }
   ],
   "source": [
    "# 定义一个初始化的状态\n",
    "initial_state = {\"x\":10, \"y\": 9}\n",
    "\n",
    "graph.invoke(initial_state)"
   ]
  },
  {
   "cell_type": "markdown",
   "id": "8b13084c-2287-4a1a-a0b5-8adb49052a4e",
   "metadata": {},
   "source": [
    "&emsp;&emsp;总体来看，该图设置了一个简单的工作流程。其中值首先在第一个节点通过加法函数增加，然后在第二个节点通过减法函数减少。这一流程展示了节点如何通过图中的共享状态进行交互。需要注意的是，**状态在任何给定时间只包含来自一个节点的更新信息。这意味着当节点处理状态时，它只能访问与其特定操作直接相关的数据，从而确保每个节点的逻辑是隔离和集中的。** 使用字典作为状态模式非常简单，**由于缺乏预定义的模式，节点可以在没有严格类型约束的情况下自由地读取和写入状态，这样的灵活性有利于动态数据处理。** 然而，这也要求开发者在整个图的执行过程中保持对键和值的一致性管理。因为如果在任何节点中尝试访问`State`中不存在的键，会直接中断整个图的运行状态。"
   ]
  },
  {
   "cell_type": "markdown",
   "id": "a2978bd0-88c8-4b26-847d-266bfd0710bb",
   "metadata": {},
   "source": [
    "### 3. 借助Pydantic对象创建图"
   ]
  },
  {
   "cell_type": "markdown",
   "id": "68f3bc54-f3ef-4720-ba5d-72497d7e5d58",
   "metadata": {},
   "source": [
    "&emsp;&emsp;Pydantic 是一个用于创建“数据模型”的 Python 库，它可以自动校验数据类型，并将字典数据转换为结构化对象。它就像是给字典加了一个“类型安全 + 自动验证”的外壳，是现代 Python 项目中最主流的“数据结构定义工具”。"
   ]
  },
  {
   "cell_type": "code",
   "execution_count": 27,
   "id": "59148dd6-5d17-4a7a-88ff-c6a103d487af",
   "metadata": {},
   "outputs": [],
   "source": [
    "state = {\"x\": 1, \"y\": \"hello\"}  # 没有类型限制\n",
    "\n",
    "state[\"x\"] = \"abc\"  # 不小心改错也不会报错"
   ]
  },
  {
   "cell_type": "code",
   "execution_count": 28,
   "id": "7a88ba64-6cdd-4941-8871-03162fa33ca8",
   "metadata": {},
   "outputs": [
    {
     "data": {
      "text/plain": [
       "{'x': 'abc', 'y': 'hello'}"
      ]
     },
     "execution_count": 28,
     "metadata": {},
     "output_type": "execute_result"
    }
   ],
   "source": [
    "state"
   ]
  },
  {
   "cell_type": "code",
   "execution_count": 29,
   "id": "5545b4a8-44c5-4980-8f91-5560fbb0e5fb",
   "metadata": {},
   "outputs": [
    {
     "name": "stdout",
     "output_type": "stream",
     "text": [
      "1\n",
      "default\n"
     ]
    }
   ],
   "source": [
    "from pydantic import BaseModel\n",
    "\n",
    "class MyState(BaseModel):\n",
    "    x: int\n",
    "    y: str = \"default\"   # 设置默认值\n",
    "\n",
    "# 自动校验\n",
    "state = MyState(x=1)\n",
    "print(state.x)       # 输出 1\n",
    "print(state.y)       # 输出 default\n",
    "\n",
    "# 错误类型会报错\n",
    "# state = MyState(x=\"abc\")  # ❌ 会抛出 ValidationError"
   ]
  },
  {
   "cell_type": "markdown",
   "id": "ece982fb-caa7-4e19-af03-d274abf1fa20",
   "metadata": {},
   "source": [
    "然后我们可以在 StateGraph(MyState) 传入一个 Pydantic 模型："
   ]
  },
  {
   "cell_type": "code",
   "execution_count": 30,
   "id": "21bff0e0-533c-4fb3-bd8d-f4d8f4175770",
   "metadata": {},
   "outputs": [
    {
     "name": "stdout",
     "output_type": "stream",
     "text": [
      "[addition] 初始状态: x=10\n",
      "[subtraction] 接收到状态: x=11\n",
      "\n",
      "[最终结果] -> {'x': 9}\n"
     ]
    }
   ],
   "source": [
    "from pydantic import BaseModel\n",
    "from langgraph.graph import StateGraph, START, END\n",
    "\n",
    "# ✅ 1. 定义结构化状态模型\n",
    "class CalcState(BaseModel):\n",
    "    x: int\n",
    "\n",
    "# ✅ 2. 定义节点函数，接收并返回 CalcState\n",
    "def addition(state: CalcState) -> CalcState:\n",
    "    print(f\"[addition] 初始状态: {state}\")\n",
    "    return CalcState(x=state.x + 1)\n",
    "\n",
    "def subtraction(state: CalcState) -> CalcState:\n",
    "    print(f\"[subtraction] 接收到状态: {state}\")\n",
    "    return CalcState(x=state.x - 2)\n",
    "\n",
    "# ✅ 3. 构建图\n",
    "builder = StateGraph(CalcState)\n",
    "\n",
    "builder.add_node(\"addition\", addition)\n",
    "builder.add_node(\"subtraction\", subtraction)\n",
    "\n",
    "builder.add_edge(START, \"addition\")\n",
    "builder.add_edge(\"addition\", \"subtraction\")\n",
    "builder.add_edge(\"subtraction\", END)\n",
    "\n",
    "graph = builder.compile()\n",
    "\n",
    "# ✅ 4. 执行图：传入结构化状态对象\n",
    "initial_state = CalcState(x=10)\n",
    "final_state = graph.invoke(initial_state)\n",
    "\n",
    "# ✅ 5. 打印最终结果\n",
    "print(\"\\n[最终结果] ->\", final_state)"
   ]
  },
  {
   "cell_type": "markdown",
   "id": "3fa404ed-0f9d-4a62-acf5-a6a0b31f234b",
   "metadata": {},
   "source": [
    "但是需要注意的是，无论输入端输入什么结构的对象，最终图计算返回结果是一个字典类型对象。"
   ]
  },
  {
   "cell_type": "markdown",
   "id": "8056afe3-5c1d-4edd-a559-6c8f23b2d480",
   "metadata": {},
   "source": [
    "### 4.创建条件分支图"
   ]
  },
  {
   "cell_type": "code",
   "execution_count": 24,
   "id": "d9114744-d2e0-4284-81e8-4203c3360e4a",
   "metadata": {},
   "outputs": [
    {
     "name": "stdout",
     "output_type": "stream",
     "text": [
      "\n",
      "✅ 测试 x=4（偶数）\n",
      "[check_x] Received state: x=4 result=None\n",
      "[handle_even] x 是偶数\n",
      "\n",
      "✅ 测试 x=3（奇数）\n",
      "[check_x] Received state: x=3 result=None\n",
      "[handle_odd] x 是奇数\n"
     ]
    },
    {
     "data": {
      "text/plain": [
       "{'x': 3, 'result': 'odd'}"
      ]
     },
     "execution_count": 24,
     "metadata": {},
     "output_type": "execute_result"
    }
   ],
   "source": [
    "from typing import Optional\n",
    "from pydantic import BaseModel\n",
    "from langgraph.graph import StateGraph, START, END\n",
    "\n",
    "# ✅ 定义结构化状态\n",
    "class MyState(BaseModel):\n",
    "    x: int\n",
    "    result: Optional[str] = None\n",
    "\n",
    "# ✅ 定义各节点处理逻辑（接受 MyState，返回 MyState）\n",
    "def check_x(state: MyState) -> MyState:\n",
    "    print(f\"[check_x] Received state: {state}\")\n",
    "    return state\n",
    "\n",
    "def is_even(state: MyState) -> bool:\n",
    "    return state.x % 2 == 0\n",
    "\n",
    "def handle_even(state: MyState) -> MyState:\n",
    "    print(\"[handle_even] x 是偶数\")\n",
    "    return MyState(x=state.x, result=\"even\")\n",
    "\n",
    "def handle_odd(state: MyState) -> MyState:\n",
    "    print(\"[handle_odd] x 是奇数\")\n",
    "    return MyState(x=state.x, result=\"odd\")\n",
    "\n",
    "# ✅ 构建图\n",
    "builder = StateGraph(MyState)\n",
    "\n",
    "builder.add_node(\"check_x\", check_x)\n",
    "builder.add_node(\"handle_even\", handle_even)\n",
    "builder.add_node(\"handle_odd\", handle_odd)\n",
    "\n",
    "# ✅ 添加条件分支\n",
    "builder.add_conditional_edges(\"check_x\", is_even, {\n",
    "    True: \"handle_even\",\n",
    "    False: \"handle_odd\"\n",
    "})\n",
    "\n",
    "# ✅ 衔接起始和结束\n",
    "builder.add_edge(START, \"check_x\")\n",
    "builder.add_edge(\"handle_even\", END)\n",
    "builder.add_edge(\"handle_odd\", END)\n",
    "\n",
    "# ✅ 编译图\n",
    "graph = builder.compile()\n",
    "\n",
    "# ✅ 执行测试\n",
    "print(\"\\n✅ 测试 x=4（偶数）\")\n",
    "graph.invoke(MyState(x=4))\n",
    "\n",
    "print(\"\\n✅ 测试 x=3（奇数）\")\n",
    "graph.invoke(MyState(x=3))\n"
   ]
  },
  {
   "cell_type": "markdown",
   "id": "7cab403e-2821-4e7a-abc4-a2e2cc8eb84a",
   "metadata": {},
   "source": [
    "在本示例中，我们基于 LangGraph 框架构建了一个简单的**有状态条件分支图**，用于演示如何使用结构化状态（通过 Pydantic 模型定义）在多步骤的决策流程中进行状态传递与条件控制。\n",
    "\n",
    "我们首先定义了一个名为 `MyState` 的 Pydantic 模型，用于描述图中每个节点共享的上下文状态信息。该状态包含两个字段：`x` 表示输入数值，`result` 表示最终处理结果。通过使用 Pydantic，能够显著增强状态管理的类型安全性、可读性和扩展性。\n",
    "\n",
    "图的结构由三个核心节点组成：\n",
    "\n",
    "1. **check\\_x**：作为图的第一步处理节点，接收初始状态并进行输出转发，不修改任何字段；\n",
    "2. **handle\\_even**：处理偶数情况，标记 `result = \"even\"`；\n",
    "3. **handle\\_odd**：处理奇数情况，标记 `result = \"odd\"`。\n",
    "\n",
    "在 `check_x` 节点之后，我们引入了基于 `is_even` 判断函数的条件分支控制逻辑。LangGraph 提供的 `add_conditional_edges` 方法允许我们根据状态中的值动态跳转至不同的执行路径，从而实现类似于传统编程语言中的 `if-else` 分支控制。\n",
    "\n",
    "整体流程图如下：\n",
    "\n",
    "```\n",
    "START → check_x → [判断 x 是否为偶数]\n",
    "                     ├─ True  → handle_even → END\n",
    "                     └─ False → handle_odd  → END\n",
    "```\n",
    "\n",
    "该图的编排逻辑清晰地展现了 LangGraph 的优势所在：即在状态流转的基础上，灵活地控制流程分支，并通过结构化模型传递和管理上下文信息，为构建具备复杂控制流的智能体（Agent）打下了基础。"
   ]
  },
  {
   "cell_type": "markdown",
   "id": "312d8d80-c958-44d2-a357-d3d916efd8a4",
   "metadata": {},
   "source": [
    "其中\n",
    "```python\n",
    "# ✅ 定义结构化状态\n",
    "class MyState(BaseModel):\n",
    "    x: int\n",
    "    result: Optional[str] = None\n",
    "```\n",
    "代码解释如下"
   ]
  },
  {
   "cell_type": "markdown",
   "id": "2e2724d9-a7f3-4a97-a557-3b541b5ec8ec",
   "metadata": {},
   "source": [
    "| 字段       | 类型定义                                 | 是否必填 | 默认值        | 含义                       |\n",
    "| -------- | ------------------------------------ | ---- | ---------- | ------------------------ |\n",
    "| `x`      | `int`                                | ✅ 必填 | 无默认值       | 必须提供的整数字段                |\n",
    "| `result` | `Optional[str]` = `Union[str, None]` | ❌ 可选 | 默认是 `None` | 表示一个可选的字符串，常用于延迟赋值或非必要字段 |\n"
   ]
  },
  {
   "cell_type": "markdown",
   "id": "4ef1a0ff-e3c3-4a82-bcab-253f2ee16205",
   "metadata": {},
   "source": [
    "而完整的图结构执行流程如下："
   ]
  },
  {
   "cell_type": "markdown",
   "id": "f2f54ab1-0c62-4f73-9aaf-7167f15fe71f",
   "metadata": {},
   "source": [
    "| 参数位置  | 传入值                                          | 含义                                |\n",
    "| ----- | -------------------------------------------- | --------------------------------- |\n",
    "| 第1个参数 | `\"check_x\"`                                  | 当前执行完的节点名称（分支判断起点）                |\n",
    "| 第2个参数 | `is_even`                                    | 一个接收状态 `state` 并返回布尔值的函数，用于判断分支条件 |\n",
    "| 第3个参数 | `{True: \"handle_even\", False: \"handle_odd\"}` | 条件结果 → 目标节点的映射表                   |\n"
   ]
  },
  {
   "cell_type": "code",
   "execution_count": 26,
   "id": "a668b05b-e0c0-4e3e-97bd-7f5b552e9d5d",
   "metadata": {},
   "outputs": [
    {
     "data": {
      "image/png": "[encoded data removed]",
      "text/plain": [
       "<IPython.core.display.Image object>"
      ]
     },
     "metadata": {},
     "output_type": "display_data"
    }
   ],
   "source": [
    "from IPython.display import display, Image\n",
    "display(Image(graph.get_graph(xray=True).draw_mermaid_png()))"
   ]
  },
  {
   "cell_type": "markdown",
   "id": "a4db11e2-6036-4398-aa5c-637fe2d0c9db",
   "metadata": {},
   "source": [
    "### 4.创建条件循环图"
   ]
  },
  {
   "cell_type": "code",
   "execution_count": 35,
   "id": "7b357c6c-71f2-42db-bdde-77006e6a1c9b",
   "metadata": {},
   "outputs": [
    {
     "name": "stdout",
     "output_type": "stream",
     "text": [
      "\n",
      "✅ 执行循环直到 x > 10\n",
      "[increment] 当前 x = 6\n",
      "[increment] 当前 x = 7\n",
      "[increment] 当前 x = 8\n",
      "[increment] 当前 x = 9\n",
      "[increment] 当前 x = 10\n",
      "[最终结果] -> x = 11\n"
     ]
    }
   ],
   "source": [
    "from pydantic import BaseModel\n",
    "from langgraph.graph import StateGraph, START, END\n",
    "\n",
    "# ✅ 1. 定义结构化状态模型\n",
    "class LoopState(BaseModel):\n",
    "    x: int\n",
    "\n",
    "# ✅ 2. 定义节点逻辑\n",
    "def increment(state: LoopState) -> LoopState:\n",
    "    print(f\"[increment] 当前 x = {state.x}\")\n",
    "    return LoopState(x=state.x + 1)\n",
    "\n",
    "def is_done(state: LoopState) -> bool:\n",
    "    return state.x > 10\n",
    "\n",
    "# ✅ 3. 构建图\n",
    "builder = StateGraph(LoopState)\n",
    "builder.add_node(\"increment\", increment)\n",
    "\n",
    "# ✅ 4. 设置循环控制：is_done 为 True 则结束，否则继续\n",
    "builder.add_conditional_edges(\"increment\", is_done, {\n",
    "    True: END,\n",
    "    False: \"increment\"\n",
    "})\n",
    "\n",
    "builder.add_edge(START, \"increment\")\n",
    "graph = builder.compile()\n",
    "\n",
    "# ✅ 5. 测试执行\n",
    "print(\"\\n✅ 执行循环直到 x > 10\")\n",
    "final_state = graph.invoke(LoopState(x=6))\n",
    "print(f\"[最终结果] -> x = {final_state['x']}\")"
   ]
  },
  {
   "cell_type": "markdown",
   "id": "c7dfc929-1c5f-4cfc-97e3-a6990bd1c73d",
   "metadata": {},
   "source": [
    "注意，这里需要注意，add_conditional_edges中构建了循环"
   ]
  },
  {
   "cell_type": "code",
   "execution_count": 34,
   "id": "22b2fb0c-888f-44d1-a8a2-6105a10d4480",
   "metadata": {},
   "outputs": [
    {
     "data": {
      "text/plain": [
       "{'x': 11}"
      ]
     },
     "execution_count": 34,
     "metadata": {},
     "output_type": "execute_result"
    }
   ],
   "source": [
    "final_state"
   ]
  },
  {
   "cell_type": "code",
   "execution_count": 33,
   "id": "b1ff714f-2774-44ed-a4b3-10f223044b65",
   "metadata": {},
   "outputs": [
    {
     "data": {
      "image/png": "[encoded data removed]",
      "text/plain": [
       "<IPython.core.display.Image object>"
      ]
     },
     "metadata": {},
     "output_type": "display_data"
    }
   ],
   "source": [
    "display(Image(graph.get_graph(xray=True).draw_mermaid_png()))"
   ]
  },
  {
   "cell_type": "code",
   "execution_count": 37,
   "id": "0a91b893-159f-4c49-b681-3d17e324fabf",
   "metadata": {},
   "outputs": [
    {
     "name": "stdout",
     "output_type": "stream",
     "text": [
      "\n",
      "✅ 初始 x=6（偶数，进入循环）\n",
      "[check_x] 当前 x = 6\n",
      "[increment] x 是偶数，执行 +1 → 7\n",
      "[check_x] 当前 x = 7\n",
      "[done] x 是奇数，流程结束\n",
      "[最终结果1] -> {'x': 7, 'done': True}\n",
      "\n",
      "✅ 初始 x=3（奇数，直接 done）\n",
      "[check_x] 当前 x = 3\n",
      "[done] x 是奇数，流程结束\n",
      "[最终结果2] -> {'x': 3, 'done': True}\n"
     ]
    }
   ],
   "source": [
    "from pydantic import BaseModel\n",
    "from typing import Optional\n",
    "from langgraph.graph import StateGraph, START, END\n",
    "\n",
    "# ✅ 1. 定义状态模型\n",
    "class BranchLoopState(BaseModel):\n",
    "    x: int\n",
    "    done: Optional[bool] = False\n",
    "\n",
    "# ✅ 2. 定义各节点逻辑\n",
    "def check_x(state: BranchLoopState) -> BranchLoopState:\n",
    "    print(f\"[check_x] 当前 x = {state.x}\")\n",
    "    return state\n",
    "\n",
    "def is_even(state: BranchLoopState) -> bool:\n",
    "    return state.x % 2 == 0\n",
    "\n",
    "def increment(state: BranchLoopState) -> BranchLoopState:\n",
    "    print(f\"[increment] x 是偶数，执行 +1 → {state.x + 1}\")\n",
    "    return BranchLoopState(x=state.x + 1)\n",
    "\n",
    "def done(state: BranchLoopState) -> BranchLoopState:\n",
    "    print(f\"[done] x 是奇数，流程结束\")\n",
    "    return BranchLoopState(x=state.x, done=True)\n",
    "\n",
    "# ✅ 3. 构建图\n",
    "builder = StateGraph(BranchLoopState)\n",
    "\n",
    "builder.add_node(\"check_x\", check_x)\n",
    "builder.add_node(\"increment\", increment)\n",
    "builder.add_node(\"done_node\", done)\n",
    "\n",
    "builder.add_conditional_edges(\"check_x\", is_even, {\n",
    "    True: \"increment\",\n",
    "    False: \"done_node\"\n",
    "})\n",
    "\n",
    "# ✅ 4. 循环逻辑：偶数 → increment → check_x\n",
    "builder.add_edge(\"increment\", \"check_x\")\n",
    "\n",
    "# ✅ 5. 起始与终点\n",
    "builder.add_edge(START, \"check_x\")\n",
    "builder.add_edge(\"done_node\", END)\n",
    "\n",
    "graph = builder.compile()\n",
    "\n",
    "# ✅ 6. 测试执行\n",
    "print(\"\\n✅ 初始 x=6（偶数，进入循环）\")\n",
    "final_state1 = graph.invoke(BranchLoopState(x=6))\n",
    "print(\"[最终结果1] ->\", final_state1)\n",
    "\n",
    "print(\"\\n✅ 初始 x=3（奇数，直接 done）\")\n",
    "final_state2 = graph.invoke(BranchLoopState(x=3))\n",
    "print(\"[最终结果2] ->\", final_state2)"
   ]
  },
  {
   "cell_type": "code",
   "execution_count": 38,
   "id": "bf9d45ca-a728-47c0-a449-51856932b444",
   "metadata": {},
   "outputs": [
    {
     "data": {
      "image/png": "[encoded data removed]",
      "text/plain": [
       "<IPython.core.display.Image object>"
      ]
     },
     "metadata": {},
     "output_type": "display_data"
    }
   ],
   "source": [
    "display(Image(graph.get_graph(xray=True).draw_mermaid_png()))"
   ]
  },
  {
   "cell_type": "markdown",
   "id": "0e4ffa5b-0ded-4ffc-a39e-feb1dfcdc9ec",
   "metadata": {},
   "source": [
    "LangGraph 会把所有节点名、状态字段、通道名放在一个命名空间中处理，为了避免歧义，它会严格检查有没有冲突，最保险的做法是：节点名不要与字段名重复，既如果使用 state.result = \"done\"，也不要有 \"result\" 这个节点。"
   ]
  },
  {
   "cell_type": "markdown",
   "id": "90aa05f0-d15e-4e7f-ad44-d1b4d27113a5",
   "metadata": {},
   "source": [
    "&emsp;&emsp;理解了`LangGraph`构建图的基本流程后，接下来我们就尝试接入大模型构建一个对话机器人。"
   ]
  },
  {
   "cell_type": "markdown",
   "id": "919571c1-769c-4c10-a989-8a48c86071aa",
   "metadata": {},
   "source": [
    "## 三、搭建基于LangGraph的多轮对话问答机器人"
   ]
  },
  {
   "cell_type": "markdown",
   "id": "61e505a6-e7eb-4612-914f-237f43a498d9",
   "metadata": {},
   "source": [
    "### 1. LangGraph中多轮对话实现方法"
   ]
  },
  {
   "cell_type": "markdown",
   "id": "e8b57bf3-7c56-46bb-81c2-1c8e0a03af69",
   "metadata": {},
   "source": [
    "&emsp;&emsp;在接下来的这个案例中，我们进一步将大模型接入到 `LangGraph` 工作流程中，并允许动态消息处理以及与模型的交互。"
   ]
  },
  {
   "cell_type": "markdown",
   "id": "8fc6ba48-4a27-4783-a3ae-f4e0f15a5a30",
   "metadata": {},
   "source": [
    "&emsp;&emsp;大模型应用都是接受消息列表作为输入，就像`LangChain`中的`Chat Model`，需要接收`Message`对象列表作为输入。这些消息有多种形式，例如`HumanMessage` （用户输入）或`AIMessage` （ 大模型响应）。这种消息格式其实就与我们之前介绍的`StateGraph(dict)`结构有一些区别。\n",
    "\n",
    "&emsp;&emsp;因此对于消息序列格式的`state`，一种更简单的方法就是使用`LangGraph`预构建的`add_messages`函数，这个更高级的状态所实现的是：**对于全新的消息，它会附加到现有列表，同时它也会正确处理现有消息的更新。** 代码如下所示："
   ]
  },
  {
   "cell_type": "code",
   "execution_count": 39,
   "id": "84279426-5377-4d11-935e-b20dc237c464",
   "metadata": {},
   "outputs": [],
   "source": [
    "from typing import Annotated\n",
    "\n",
    "from typing_extensions import TypedDict\n",
    "\n",
    "from langgraph.graph import StateGraph\n",
    "from langgraph.graph.message import add_messages\n",
    "\n",
    "\n",
    "class State(TypedDict):\n",
    "    messages: Annotated[list, add_messages]\n",
    "\n",
    "graph_builder = StateGraph(State)"
   ]
  },
  {
   "cell_type": "markdown",
   "id": "5a4068b7-e790-457a-ac02-c8699a32d293",
   "metadata": {},
   "source": [
    "&emsp;&emsp;`add_messages`的核心逻辑是合并两个消息列表，按 `ID` 更新现有消息。默认情况下，状态为“仅附加”，当新消息与现有消息具有相同的 ID时，进行更新。具体参数是：\n",
    "- left （ Messages ） – 消息的基本列表。\n",
    "- right （ Messages ） – 要合并到基本列表中的消息列表（或单个消息）。\n",
    "\n",
    "&emsp;&emsp;其返回值是一个消息列表，其中的合并逻辑则是：如果right的消息与left的消息具有相同的 ID，则right的消息将替换left的消息，否则作为一条新的消息进行追加。通过这种形式维护一个`messages`列表，可以很方便的实现消息的合并和更新。其基本形式如下：\n",
    "\n",
    "```python\n",
    "    messages = [\n",
    "        HumanMessage(content=\"你好，请你详细的介绍一下你自己。\"),\n",
    "        AIMessage(content=\"我是一个智能助手，我可以帮助你回答问题。\"),\n",
    "        HumanMessage(content=\"请问什么是大模型？\"),\n",
    "        AIMessage(content=\"大模型是一种基于深度学习的自然语言处理模型，它能够理解和生成自然语言文本。\"),\n",
    "        .....\n",
    "    ]\n",
    "```"
   ]
  },
  {
   "cell_type": "markdown",
   "id": "80be6c3c-3806-4e08-b38a-6da4e1ab1e30",
   "metadata": {},
   "source": [
    "&emsp;&emsp;我们可以使用`add_messages`函数来进行快速验证。 如果消息的`ID`不一样，则会进行追加。代码如下："
   ]
  },
  {
   "cell_type": "code",
   "execution_count": 40,
   "id": "aa53350c-a2a6-465a-9d22-e7d28f56a3e1",
   "metadata": {},
   "outputs": [
    {
     "data": {
      "text/plain": [
       "[HumanMessage(content='你好。', additional_kwargs={}, response_metadata={}, id='1'),\n",
       " AIMessage(content='你好，很高兴认识你。', additional_kwargs={}, response_metadata={}, id='2')]"
      ]
     },
     "execution_count": 40,
     "metadata": {},
     "output_type": "execute_result"
    }
   ],
   "source": [
    "from langgraph.graph.message import add_messages\n",
    "from langchain_core.messages import AIMessage, HumanMessage\n",
    "\n",
    "msgs1 = [HumanMessage(content=\"你好。\", id=\"1\")]\n",
    "msgs2 = [AIMessage(content=\"你好，很高兴认识你。\", id=\"2\")]\n",
    "\n",
    "add_messages(msgs1, msgs2)"
   ]
  },
  {
   "cell_type": "markdown",
   "id": "d622eb43-0e25-4383-bea6-26b19cf5119b",
   "metadata": {},
   "source": [
    "&emsp;&emsp;如果`ID`相同，则会对消息内容进行更新。代码如下："
   ]
  },
  {
   "cell_type": "code",
   "execution_count": 41,
   "id": "b742cbbe-7442-49ce-8309-9953a93d84e8",
   "metadata": {},
   "outputs": [
    {
     "data": {
      "text/plain": [
       "[HumanMessage(content='你好呀。', additional_kwargs={}, response_metadata={}, id='1')]"
      ]
     },
     "execution_count": 41,
     "metadata": {},
     "output_type": "execute_result"
    }
   ],
   "source": [
    "msgs1 = [HumanMessage(content=\"你好。\", id=\"1\")]\n",
    "msgs2 = [HumanMessage(content=\"你好呀。\", id=\"1\")]\n",
    "\n",
    "add_messages(msgs1, msgs2)"
   ]
  },
  {
   "cell_type": "markdown",
   "id": "51337a30-d62c-4fdf-b156-93dc8cddfe8c",
   "metadata": {},
   "source": [
    "需要注意的是，不能直接在普通 Python 代码中测试 add_messages 的合并功能。\n",
    "\n",
    "原因是：\n",
    "✅ add_messages 并不会在你创建 State 字典时自动生效，\n",
    "⛔ 它只会在 LangGraph 的内部状态更新系统中被识别和调用。"
   ]
  },
  {
   "cell_type": "markdown",
   "id": "c40e5025-6d3a-4b8f-bd0e-ddd67f44a35e",
   "metadata": {},
   "source": [
    "&emsp;&emsp;因此，当通过`messages: Annotated[list, add_messages]`去定义状态时，我们就可以很方便的实现聊天机器人场景下消息序列的处理和维护。"
   ]
  },
  {
   "cell_type": "code",
   "execution_count": 16,
   "id": "574b34e0-fc21-4f27-b16a-6887cb2ef4f1",
   "metadata": {},
   "outputs": [],
   "source": [
    "from typing import Annotated\n",
    "\n",
    "from typing_extensions import TypedDict\n",
    "\n",
    "from langgraph.graph import StateGraph, START\n",
    "from langgraph.graph.message import add_messages\n",
    "\n",
    "class State(TypedDict):\n",
    "    messages: Annotated[list, add_messages]\n",
    "\n",
    "graph_builder = StateGraph(State)"
   ]
  },
  {
   "cell_type": "markdown",
   "id": "f6fd778d-16bb-439c-97f7-f88e6d3ad84d",
   "metadata": {},
   "source": [
    "| 元素             | 含义        | 是什么？                                             |\n",
    "| -------------- | --------- | ------------------------------------------------ |\n",
    "| `list`         | 字段的数据类型   | ✅ Python 内置的**类型**（列表类型）                         |\n",
    "| `add_messages` | 字段的“附加语义” | ✅ LangGraph 提供的**特殊函数（合并器/reducer）**，不是 list 的方法 |\n"
   ]
  },
  {
   "cell_type": "markdown",
   "id": "dd27cdb2-8453-481e-aa14-7000ab48b3d6",
   "metadata": {},
   "source": [
    "&emsp;&emsp;接下来我们需要创建一个大模型节点，接收用户的输入，并返回大模型的响应。因此首先需要准备一个可以进行调用的大模型，这里我们选择使用`DeepSeek`的大模型，并使用`DeepSeek`官方的`API_KEK`进行调用。如果初次使用，需要现在`DeepSeek`官网上进行注册并创建一个新的`API_Key`，其官方地址为：https://platform.deepseek.com/usage"
   ]
  },
  {
   "cell_type": "markdown",
   "id": "d0bc9309-1947-4098-a66d-7964fabcd48c",
   "metadata": {},
   "source": [
    "<div align=center><img src=\"https://muyu20241105.oss-cn-beijing.aliyuncs.com/images/202506091257041.png\" width=60%></div>"
   ]
  },
  {
   "cell_type": "markdown",
   "id": "0ec598f9-a198-4fa9-8158-e0f89532c429",
   "metadata": {},
   "source": [
    "&emsp;&emsp;注册好`DeepSeek`的`API_KEY`后，首先在项目同级目录下创建一个`env`文件，用于存储`DeepSeek`的`API_KEY`，如下所示："
   ]
  },
  {
   "cell_type": "markdown",
   "id": "e50f9cf2-03db-476b-846e-6e6e11035142",
   "metadata": {},
   "source": [
    "<div align=center><img src=\"https://muyu20241105.oss-cn-beijing.aliyuncs.com/images/202506091301526.png\" width=60%></div>"
   ]
  },
  {
   "cell_type": "markdown",
   "id": "e2b8ff90-a34a-4606-b0fb-27440f3ec8e0",
   "metadata": {},
   "source": [
    "&emsp;&emsp;接下来通过`python-dotenv`库读取`env`文件中的`API_KEY`，使其加载到当前的运行环境中，代码如下："
   ]
  },
  {
   "cell_type": "code",
   "execution_count": 4,
   "id": "125fa2a7-5793-4e98-8fa3-84b55eb1e6f3",
   "metadata": {},
   "outputs": [
    {
     "name": "stdout",
     "output_type": "stream",
     "text": [
      "Looking in indexes: https://pypi.tuna.tsinghua.edu.cn/simple\n",
      "Requirement already satisfied: python-dotenv in /root/anaconda3/lib/python3.12/site-packages (1.0.1)\n",
      "\u001b[33mWARNING: Running pip as the 'root' user can result in broken permissions and conflicting behaviour with the system package manager. It is recommended to use a virtual environment instead: https://pip.pypa.io/warnings/venv\u001b[0m\u001b[33m\n",
      "\u001b[0m"
     ]
    }
   ],
   "source": [
    "! pip install python-dotenv -i https://pypi.tuna.tsinghua.edu.cn/simple"
   ]
  },
  {
   "cell_type": "code",
   "execution_count": 42,
   "id": "cb5a3b0f-f630-44aa-8941-ca4a1ee5b8ce",
   "metadata": {},
   "outputs": [],
   "source": [
    "import os\n",
    "from dotenv import load_dotenv \n",
    "load_dotenv(override=True)\n",
    "\n",
    "DeepSeek_API_KEY = os.getenv(\"DEEPSEEK_API_KEY\")\n",
    "\n",
    "# print(DeepSeek_API_KEY)  # 可以通过打印查看"
   ]
  },
  {
   "cell_type": "markdown",
   "id": "1a50d6d6-e7a4-467c-97e8-14ff6614bc13",
   "metadata": {},
   "source": [
    "&emsp;&emsp;我们在当前的运行环境直接使用`DeepSeek`的`API`进行网络连通性测试，测试代码如下："
   ]
  },
  {
   "cell_type": "code",
   "execution_count": 5,
   "id": "f01e000f-f4a5-4830-a660-07b96bdb1564",
   "metadata": {
    "scrolled": true
   },
   "outputs": [
    {
     "name": "stdout",
     "output_type": "stream",
     "text": [
      "Looking in indexes: https://pypi.tuna.tsinghua.edu.cn/simple\n",
      "Requirement already satisfied: openai in /root/anaconda3/lib/python3.12/site-packages (1.78.1)\n",
      "Requirement already satisfied: anyio<5,>=3.5.0 in /root/anaconda3/lib/python3.12/site-packages (from openai) (4.8.0)\n",
      "Requirement already satisfied: distro<2,>=1.7.0 in /root/anaconda3/lib/python3.12/site-packages (from openai) (1.9.0)\n",
      "Requirement already satisfied: httpx<1,>=0.23.0 in /root/anaconda3/lib/python3.12/site-packages (from openai) (0.28.1)\n",
      "Requirement already satisfied: jiter<1,>=0.4.0 in /root/anaconda3/lib/python3.12/site-packages (from openai) (0.8.2)\n",
      "Requirement already satisfied: pydantic<3,>=1.9.0 in /root/anaconda3/lib/python3.12/site-packages (from openai) (2.11.4)\n",
      "Requirement already satisfied: sniffio in /root/anaconda3/lib/python3.12/site-packages (from openai) (1.3.0)\n",
      "Requirement already satisfied: tqdm>4 in /root/anaconda3/lib/python3.12/site-packages (from openai) (4.66.4)\n",
      "Requirement already satisfied: typing-extensions<5,>=4.11 in /root/anaconda3/lib/python3.12/site-packages (from openai) (4.13.2)\n",
      "Requirement already satisfied: idna>=2.8 in /root/anaconda3/lib/python3.12/site-packages (from anyio<5,>=3.5.0->openai) (3.7)\n",
      "Requirement already satisfied: certifi in /root/anaconda3/lib/python3.12/site-packages (from httpx<1,>=0.23.0->openai) (2024.2.2)\n",
      "Requirement already satisfied: httpcore==1.* in /root/anaconda3/lib/python3.12/site-packages (from httpx<1,>=0.23.0->openai) (1.0.7)\n",
      "Requirement already satisfied: h11<0.15,>=0.13 in /root/anaconda3/lib/python3.12/site-packages (from httpcore==1.*->httpx<1,>=0.23.0->openai) (0.14.0)\n",
      "Requirement already satisfied: annotated-types>=0.6.0 in /root/anaconda3/lib/python3.12/site-packages (from pydantic<3,>=1.9.0->openai) (0.6.0)\n",
      "Requirement already satisfied: pydantic-core==2.33.2 in /root/anaconda3/lib/python3.12/site-packages (from pydantic<3,>=1.9.0->openai) (2.33.2)\n",
      "Requirement already satisfied: typing-inspection>=0.4.0 in /root/anaconda3/lib/python3.12/site-packages (from pydantic<3,>=1.9.0->openai) (0.4.0)\n",
      "\u001b[33mWARNING: Running pip as the 'root' user can result in broken permissions and conflicting behaviour with the system package manager. It is recommended to use a virtual environment instead: https://pip.pypa.io/warnings/venv\u001b[0m\u001b[33m\n",
      "\u001b[0m"
     ]
    }
   ],
   "source": [
    "! pip install openai -i https://pypi.tuna.tsinghua.edu.cn/simple"
   ]
  },
  {
   "cell_type": "code",
   "execution_count": 43,
   "id": "ad464b35-c315-42b6-a067-0c80a6075006",
   "metadata": {},
   "outputs": [
    {
     "name": "stdout",
     "output_type": "stream",
     "text": [
      "你好！我是一个由人工智能驱动的虚拟助手，很高兴认识你。我的主要功能是为你提供信息查询、问题解答、创意建议以及日常事务协助。无论是学习、工作还是生活中的问题，我都会尽力提供有用的帮助。\n",
      "\n",
      "我的特点包括：\n",
      "1. 24小时在线，随时响应\n",
      "2. 能理解多种语言\n",
      "3. 知识覆盖面广(但知识截止到2023年)\n",
      "4. 可以帮你整理思路、提供建议\n",
      "\n",
      "不过我也有些限制：\n",
      "- 没有真实情感和意识\n",
      "- 无法处理需要实地操作的任务\n",
      "- 有时可能会出错\n",
      "\n",
      "你想了解我哪方面的具体信息呢？或者有什么我可以帮你的？\n"
     ]
    }
   ],
   "source": [
    "from openai import OpenAI\n",
    "\n",
    "# 初始化DeepSeek的API客户端\n",
    "client = OpenAI(api_key=DeepSeek_API_KEY, base_url=\"https://api.deepseek.com\")\n",
    "\n",
    "# 调用DeepSeek的API，生成回答\n",
    "response = client.chat.completions.create(\n",
    "    model=\"deepseek-chat\",\n",
    "    messages=[\n",
    "        {\"role\": \"system\", \"content\": \"你是乐于助人的助手，请根据用户的问题给出回答\"},\n",
    "        {\"role\": \"user\", \"content\": \"你好，请你介绍一下你自己。\"},\n",
    "    ],\n",
    ")\n",
    "\n",
    "# 打印模型最终的响应结果\n",
    "print(response.choices[0].message.content)"
   ]
  },
  {
   "cell_type": "markdown",
   "id": "3d6402c6-68fc-4efc-a485-29ed625e9023",
   "metadata": {},
   "source": [
    "&emsp;&emsp;如果可以正常收到`DeepSeek`模型的响应，则说明`DeepSeek`的`API`已经可以正常使用且网络连通性正常。"
   ]
  },
  {
   "cell_type": "markdown",
   "id": "e6183203-bbcd-4e13-b3d4-7d5a33177e2c",
   "metadata": {},
   "source": [
    "&emsp;&emsp;对于`LangGraph`框架，接入大模型最简单的方法就是借助`langChain`中的`ChatModel`组件。因此，我们首先需要安装`LangChain`的`DeepSeek`组件，安装命令如下："
   ]
  },
  {
   "cell_type": "code",
   "execution_count": 8,
   "id": "733f7a25-53c0-4091-a4cf-5ea8ea0bcb94",
   "metadata": {
    "scrolled": true
   },
   "outputs": [
    {
     "name": "stdout",
     "output_type": "stream",
     "text": [
      "Requirement already satisfied: langchain-deepseek in e:\\01_木羽研发\\11_trafficvideo\\langchain_venv\\lib\\site-packages (0.1.3)\n",
      "Requirement already satisfied: langchain-core<1.0.0,>=0.3.47 in e:\\01_木羽研发\\11_trafficvideo\\langchain_venv\\lib\\site-packages (from langchain-deepseek) (0.3.64)\n",
      "Requirement already satisfied: langchain-openai<1.0.0,>=0.3.9 in e:\\01_木羽研发\\11_trafficvideo\\langchain_venv\\lib\\site-packages (from langchain-deepseek) (0.3.21)\n",
      "Requirement already satisfied: langsmith<0.4,>=0.3.45 in e:\\01_木羽研发\\11_trafficvideo\\langchain_venv\\lib\\site-packages (from langchain-core<1.0.0,>=0.3.47->langchain-deepseek) (0.3.45)\n",
      "Requirement already satisfied: tenacity!=8.4.0,<10.0.0,>=8.1.0 in e:\\01_木羽研发\\11_trafficvideo\\langchain_venv\\lib\\site-packages (from langchain-core<1.0.0,>=0.3.47->langchain-deepseek) (9.1.2)\n",
      "Requirement already satisfied: jsonpatch<2.0,>=1.33 in e:\\01_木羽研发\\11_trafficvideo\\langchain_venv\\lib\\site-packages (from langchain-core<1.0.0,>=0.3.47->langchain-deepseek) (1.33)\n",
      "Requirement already satisfied: PyYAML>=5.3 in e:\\01_木羽研发\\11_trafficvideo\\langchain_venv\\lib\\site-packages (from langchain-core<1.0.0,>=0.3.47->langchain-deepseek) (6.0.2)\n",
      "Requirement already satisfied: packaging<25,>=23.2 in e:\\01_木羽研发\\11_trafficvideo\\langchain_venv\\lib\\site-packages (from langchain-core<1.0.0,>=0.3.47->langchain-deepseek) (24.2)\n",
      "Requirement already satisfied: typing-extensions>=4.7 in e:\\01_木羽研发\\11_trafficvideo\\langchain_venv\\lib\\site-packages (from langchain-core<1.0.0,>=0.3.47->langchain-deepseek) (4.14.0)\n",
      "Requirement already satisfied: pydantic>=2.7.4 in e:\\01_木羽研发\\11_trafficvideo\\langchain_venv\\lib\\site-packages (from langchain-core<1.0.0,>=0.3.47->langchain-deepseek) (2.11.5)\n",
      "Requirement already satisfied: jsonpointer>=1.9 in e:\\01_木羽研发\\11_trafficvideo\\langchain_venv\\lib\\site-packages (from jsonpatch<2.0,>=1.33->langchain-core<1.0.0,>=0.3.47->langchain-deepseek) (3.0.0)\n",
      "Requirement already satisfied: openai<2.0.0,>=1.68.2 in e:\\01_木羽研发\\11_trafficvideo\\langchain_venv\\lib\\site-packages (from langchain-openai<1.0.0,>=0.3.9->langchain-deepseek) (1.84.0)\n",
      "Requirement already satisfied: tiktoken<1,>=0.7 in e:\\01_木羽研发\\11_trafficvideo\\langchain_venv\\lib\\site-packages (from langchain-openai<1.0.0,>=0.3.9->langchain-deepseek) (0.9.0)\n",
      "Requirement already satisfied: httpx<1,>=0.23.0 in e:\\01_木羽研发\\11_trafficvideo\\langchain_venv\\lib\\site-packages (from langsmith<0.4,>=0.3.45->langchain-core<1.0.0,>=0.3.47->langchain-deepseek) (0.28.1)\n",
      "Requirement already satisfied: orjson<4.0.0,>=3.9.14 in e:\\01_木羽研发\\11_trafficvideo\\langchain_venv\\lib\\site-packages (from langsmith<0.4,>=0.3.45->langchain-core<1.0.0,>=0.3.47->langchain-deepseek) (3.10.18)\n",
      "Requirement already satisfied: requests<3,>=2 in e:\\01_木羽研发\\11_trafficvideo\\langchain_venv\\lib\\site-packages (from langsmith<0.4,>=0.3.45->langchain-core<1.0.0,>=0.3.47->langchain-deepseek) (2.32.3)\n",
      "Requirement already satisfied: requests-toolbelt<2.0.0,>=1.0.0 in e:\\01_木羽研发\\11_trafficvideo\\langchain_venv\\lib\\site-packages (from langsmith<0.4,>=0.3.45->langchain-core<1.0.0,>=0.3.47->langchain-deepseek) (1.0.0)\n",
      "Requirement already satisfied: zstandard<0.24.0,>=0.23.0 in e:\\01_木羽研发\\11_trafficvideo\\langchain_venv\\lib\\site-packages (from langsmith<0.4,>=0.3.45->langchain-core<1.0.0,>=0.3.47->langchain-deepseek) (0.23.0)\n",
      "Requirement already satisfied: anyio in e:\\01_木羽研发\\11_trafficvideo\\langchain_venv\\lib\\site-packages (from httpx<1,>=0.23.0->langsmith<0.4,>=0.3.45->langchain-core<1.0.0,>=0.3.47->langchain-deepseek) (4.9.0)\n",
      "Requirement already satisfied: certifi in e:\\01_木羽研发\\11_trafficvideo\\langchain_venv\\lib\\site-packages (from httpx<1,>=0.23.0->langsmith<0.4,>=0.3.45->langchain-core<1.0.0,>=0.3.47->langchain-deepseek) (2025.4.26)\n",
      "Requirement already satisfied: httpcore==1.* in e:\\01_木羽研发\\11_trafficvideo\\langchain_venv\\lib\\site-packages (from httpx<1,>=0.23.0->langsmith<0.4,>=0.3.45->langchain-core<1.0.0,>=0.3.47->langchain-deepseek) (1.0.9)\n",
      "Requirement already satisfied: idna in e:\\01_木羽研发\\11_trafficvideo\\langchain_venv\\lib\\site-packages (from httpx<1,>=0.23.0->langsmith<0.4,>=0.3.45->langchain-core<1.0.0,>=0.3.47->langchain-deepseek) (3.10)\n",
      "Requirement already satisfied: h11>=0.16 in e:\\01_木羽研发\\11_trafficvideo\\langchain_venv\\lib\\site-packages (from httpcore==1.*->httpx<1,>=0.23.0->langsmith<0.4,>=0.3.45->langchain-core<1.0.0,>=0.3.47->langchain-deepseek) (0.16.0)\n",
      "Requirement already satisfied: distro<2,>=1.7.0 in e:\\01_木羽研发\\11_trafficvideo\\langchain_venv\\lib\\site-packages (from openai<2.0.0,>=1.68.2->langchain-openai<1.0.0,>=0.3.9->langchain-deepseek) (1.9.0)\n",
      "Requirement already satisfied: jiter<1,>=0.4.0 in e:\\01_木羽研发\\11_trafficvideo\\langchain_venv\\lib\\site-packages (from openai<2.0.0,>=1.68.2->langchain-openai<1.0.0,>=0.3.9->langchain-deepseek) (0.10.0)\n",
      "Requirement already satisfied: sniffio in e:\\01_木羽研发\\11_trafficvideo\\langchain_venv\\lib\\site-packages (from openai<2.0.0,>=1.68.2->langchain-openai<1.0.0,>=0.3.9->langchain-deepseek) (1.3.1)\n",
      "Requirement already satisfied: tqdm>4 in e:\\01_木羽研发\\11_trafficvideo\\langchain_venv\\lib\\site-packages (from openai<2.0.0,>=1.68.2->langchain-openai<1.0.0,>=0.3.9->langchain-deepseek) (4.67.1)\n",
      "Requirement already satisfied: annotated-types>=0.6.0 in e:\\01_木羽研发\\11_trafficvideo\\langchain_venv\\lib\\site-packages (from pydantic>=2.7.4->langchain-core<1.0.0,>=0.3.47->langchain-deepseek) (0.7.0)\n",
      "Requirement already satisfied: pydantic-core==2.33.2 in e:\\01_木羽研发\\11_trafficvideo\\langchain_venv\\lib\\site-packages (from pydantic>=2.7.4->langchain-core<1.0.0,>=0.3.47->langchain-deepseek) (2.33.2)\n",
      "Requirement already satisfied: typing-inspection>=0.4.0 in e:\\01_木羽研发\\11_trafficvideo\\langchain_venv\\lib\\site-packages (from pydantic>=2.7.4->langchain-core<1.0.0,>=0.3.47->langchain-deepseek) (0.4.1)\n",
      "Requirement already satisfied: charset-normalizer<4,>=2 in e:\\01_木羽研发\\11_trafficvideo\\langchain_venv\\lib\\site-packages (from requests<3,>=2->langsmith<0.4,>=0.3.45->langchain-core<1.0.0,>=0.3.47->langchain-deepseek) (3.4.2)\n",
      "Requirement already satisfied: urllib3<3,>=1.21.1 in e:\\01_木羽研发\\11_trafficvideo\\langchain_venv\\lib\\site-packages (from requests<3,>=2->langsmith<0.4,>=0.3.45->langchain-core<1.0.0,>=0.3.47->langchain-deepseek) (2.4.0)\n",
      "Requirement already satisfied: regex>=2022.1.18 in e:\\01_木羽研发\\11_trafficvideo\\langchain_venv\\lib\\site-packages (from tiktoken<1,>=0.7->langchain-openai<1.0.0,>=0.3.9->langchain-deepseek) (2024.11.6)\n",
      "Requirement already satisfied: colorama in e:\\01_木羽研发\\11_trafficvideo\\langchain_venv\\lib\\site-packages (from tqdm>4->openai<2.0.0,>=1.68.2->langchain-openai<1.0.0,>=0.3.9->langchain-deepseek) (0.4.6)\n"
     ]
    }
   ],
   "source": [
    "! pip install langchain-deepseek"
   ]
  },
  {
   "cell_type": "markdown",
   "id": "5b1eaba3-eeb6-417f-9b52-d1c317390553",
   "metadata": {},
   "source": [
    "&emsp;&emsp;安装好`LangChain`集成`DeepSeek`模型的依赖包后，需要通过一个`init_chat_model`函数来初始化大模型，代码如下："
   ]
  },
  {
   "cell_type": "code",
   "execution_count": 44,
   "id": "e8ba6976-9d76-4b77-8fea-6c098703caf6",
   "metadata": {},
   "outputs": [],
   "source": [
    "from langchain.chat_models import init_chat_model\n",
    "\n",
    "model = init_chat_model(model=\"deepseek-chat\", model_provider=\"deepseek\")  "
   ]
  },
  {
   "cell_type": "markdown",
   "id": "913e3e81-038d-4086-bd9e-2abfc24e4ae7",
   "metadata": {},
   "source": [
    "&emsp;&emsp;其中`model`用来指定要使用的模型名称，而`model_provider`用来指定模型提供者，当写入`deepseek`时，会自动加载`langchain-deepseek`的依赖包，并使用在`model`中指定的模型名称用来进行交互。"
   ]
  },
  {
   "cell_type": "code",
   "execution_count": 45,
   "id": "06dae636-e6db-4433-8459-09476ad6be80",
   "metadata": {},
   "outputs": [
    {
     "name": "stdout",
     "output_type": "stream",
     "text": [
      "你好！我是 **DeepSeek Chat**，由深度求索（DeepSeek）公司研发的一款智能AI助手。我的最新版本是 **DeepSeek-V3**，知识截止到 **2024年7月**，具备强大的自然语言理解和生成能力，可以帮助你解答各种问题、提供创意灵感、辅助学习、分析数据等。  \n",
      "\n",
      "### **我的特点：**  \n",
      "✅ **免费使用**：目前没有任何收费计划，你可以随时向我提问！  \n",
      "✅ **超长上下文支持**：我能处理 **128K** 长度的文本，适合阅读和分析长文档。  \n",
      "✅ **文件阅读**：支持上传 **PDF、Word、Excel、PPT、TXT** 等文件，并从中提取信息。  \n",
      "✅ **多语言能力**：可以用中文、英文等多种语言交流，并帮助你翻译和润色文本。  \n",
      "✅ **逻辑与创造力兼具**：无论是数学计算、编程代码，还是写作、头脑风暴，我都能帮上忙！  \n",
      "\n",
      "### **我能帮你做什么？**  \n",
      "📖 **学习辅导**：解答数学、物理、历史等各种学科问题。  \n",
      "💼 **工作助理**：撰写邮件、优化简历、生成报告、分析数据。  \n",
      "📊 **编程助手**：提供代码示例、调试建议、算法优化。  \n",
      "✍ **写作创意**：写小说、诗歌、广告文案、社交媒体帖子。  \n",
      "🌍 **生活百科**：旅行攻略、健康建议、美食推荐等。  \n",
      "\n",
      "如果你有任何问题，尽管问我吧！😊\n"
     ]
    }
   ],
   "source": [
    "question = \"你好，请你介绍一下你自己。\"\n",
    "\n",
    "result = model.invoke(question)\n",
    "print(result.content)"
   ]
  },
  {
   "cell_type": "markdown",
   "id": "427b14a6-7eed-400e-8f05-e10994890018",
   "metadata": {},
   "source": [
    "&emsp;&emsp;这里可以看到，仅仅通过两行代码，我们便可以在`LangChain`中顺利调用`DeepSeek`模型，并得到模型的响应结果。相较于使用`DeepSeek`的`API`，使用`LangChain`调用模型无疑是更加简单的。同时，不仅仅是`DeepSeek`模型，`LangChain`还支持其他很多大模型，如`OpenAI`、`Qwen`、`Gemini`等，我们只需要在`init_chat_model`函数中指定不同的模型名称，就可以调用不同的模型。其工作的原理是这样的："
   ]
  },
  {
   "cell_type": "markdown",
   "id": "609badf6-4000-42cb-8b84-a45ad8650683",
   "metadata": {},
   "source": [
    "<div align=center><img src=\"https://muyu20241105.oss-cn-beijing.aliyuncs.com/images/202506091353369.png\" width=60%></div>"
   ]
  },
  {
   "cell_type": "markdown",
   "id": "98350199-0f0d-4b4b-865e-0524bb3dd1d1",
   "metadata": {},
   "source": [
    "&emsp;&emsp;理解了这个基本原理，如果大家想在用`LangChain`进行开发时使用其他大模型如`Qwen3`系列，则只需要先获取到`Qwen3`模型的`API_KEY`，然后安装`Tongyi Qwen`的第三方依赖包，即可同样通过`init_chat_model`函数来初始化模型，并调用`invoke`方法来得到模型的响应结果。关于`LangChain`都支持哪些大模型以及每个模型对应的是哪个第三方依赖包，大家可以在`LangChain`的官方文档中找到，访问链接为：https://python.langchain.com/docs/integrations/chat/"
   ]
  },
  {
   "cell_type": "markdown",
   "id": "2096487a-f506-4d79-a7c1-b56bf256e8c0",
   "metadata": {},
   "source": [
    "<div align=center><img src=\"https://muyu20241105.oss-cn-beijing.aliyuncs.com/images/202506091359607.png\" width=60%></div>"
   ]
  },
  {
   "cell_type": "markdown",
   "id": "44497246-47c9-4530-ad92-7858dee89133",
   "metadata": {},
   "source": [
    "&emsp;&emsp;当然，除了在线大模型的接入，`langChain`也只是使用`Ollama`、`vLLM`等框架启动的本地大模型，关于如何使用不同的框架启动如`DeepSeek R1`、`Qwen3`等模型，大家可以参考我的往期公开课视频："
   ]
  },
  {
   "cell_type": "markdown",
   "id": "e552f8d8-258f-4e15-8ab3-89a043ee2b20",
   "metadata": {},
   "source": [
    "- LangChain公开课参考：https://www.bilibili.com/video/BV1pYKgzAE5C/"
   ]
  },
  {
   "cell_type": "markdown",
   "id": "b7647fe1-d945-4d04-b1ed-8880b8d66b0d",
   "metadata": {},
   "source": [
    "<center><img src=\"https://ml2022.oss-cn-hangzhou.aliyuncs.com/img/image-20250624201947404.png\" alt=\"image-20250624201947404\" style=\"zoom: 33%;\" />"
   ]
  },
  {
   "cell_type": "markdown",
   "id": "c9fef22b-c56a-41ac-a68a-09eb2390b8a5",
   "metadata": {},
   "source": [
    "&emsp;&emsp;掌握了如何使用`langChain`接入大模型后，接下来我们可以直接把`langChain`的`Chat Model`接入`LangGraph`中作为一个图节点（`Node`）, 并使用`LangGraph`的`StateGraph`来管理消息序列。代码如下："
   ]
  },
  {
   "cell_type": "code",
   "execution_count": 46,
   "id": "3682fac7-51c6-4df9-a315-7546a941880d",
   "metadata": {},
   "outputs": [],
   "source": [
    "def chatbot(state: State):\n",
    "    return {\"messages\": [model.invoke(state[\"messages\"])]}"
   ]
  },
  {
   "cell_type": "markdown",
   "id": "ac00a319-82c2-4a68-b501-f5baac19ffe2",
   "metadata": {},
   "source": [
    "&emsp;&emsp;接下来，添加一个`chatbot`节点，将当前`State`作为输入并返回一个字典，该字典中更新了`messages`中的状态信息。"
   ]
  },
  {
   "cell_type": "code",
   "execution_count": 47,
   "id": "dec70fc0-49fe-485b-b4a2-b0458ea68509",
   "metadata": {},
   "outputs": [
    {
     "data": {
      "text/plain": [
       "<langgraph.graph.state.StateGraph at 0x7fd376a6e9c0>"
      ]
     },
     "execution_count": 47,
     "metadata": {},
     "output_type": "execute_result"
    }
   ],
   "source": [
    "# 添加节点\n",
    "graph_builder.add_node(\"chatbot\", chatbot)\n",
    "\n",
    "# 添加边\n",
    "graph_builder.add_edge(START, \"chatbot\")"
   ]
  },
  {
   "cell_type": "code",
   "execution_count": 48,
   "id": "f378d26e-e9d5-4493-a251-4fda333d84b5",
   "metadata": {},
   "outputs": [],
   "source": [
    "graph = graph_builder.compile()"
   ]
  },
  {
   "cell_type": "markdown",
   "id": "28a58a8b-dee0-4ddd-8dfa-a562cd4c923c",
   "metadata": {},
   "source": [
    "&emsp;&emsp;使用可视化工具，可以很方便的查看图的结构和节点之间的连接关系。代码如下："
   ]
  },
  {
   "cell_type": "code",
   "execution_count": 49,
   "id": "0b449693-ac03-44d2-8f71-28b3b5c57a24",
   "metadata": {},
   "outputs": [
    {
     "data": {
      "image/png": "[encoded data removed]",
      "text/plain": [
       "<IPython.core.display.Image object>"
      ]
     },
     "metadata": {},
     "output_type": "display_data"
    }
   ],
   "source": [
    "from IPython.display import Image, display\n",
    "\n",
    "display(Image(graph.get_graph().draw_mermaid_png()))"
   ]
  },
  {
   "cell_type": "markdown",
   "id": "d08976d6-93cf-4efd-8988-c7dbdac0b484",
   "metadata": {},
   "source": [
    "&emsp;&emsp;这个图的基本逻辑是：第一个节点调用大模型并生成一个输出，该输出是一个`AIMessage`对象类型，然后，第二个节点直接将前一个节点的 `AIMessage` 提取为具体的`JSON`格式，完成`JSON`的解析。"
   ]
  },
  {
   "cell_type": "code",
   "execution_count": 64,
   "id": "922dbe37-9bcf-4414-994a-8e7f234b6a26",
   "metadata": {},
   "outputs": [
    {
     "name": "stdout",
     "output_type": "stream",
     "text": [
      "{'messages': [HumanMessage(content='你好，我叫陈明，好久不见。', additional_kwargs={}, response_metadata={}, id='efecc8a9-dbe0-40ad-aedd-f3b741061ae2'), AIMessage(content='你好，陈明！确实好久不见，很高兴能和你再次联系。最近过得怎么样？一切还顺利吗？如果有任何想聊的或者需要帮助的地方，随时告诉我哦～ 😊', additional_kwargs={'refusal': None}, response_metadata={'token_usage': {'completion_tokens': 40, 'prompt_tokens': 12, 'total_tokens': 52, 'completion_tokens_details': None, 'prompt_tokens_details': {'audio_tokens': None, 'cached_tokens': 0}, 'prompt_cache_hit_tokens': 0, 'prompt_cache_miss_tokens': 12}, 'model_name': 'deepseek-chat', 'system_fingerprint': 'fp_8802369eaa_prod0623_fp8_kvcache', 'id': '39c79867-f3ab-4476-843d-3c0b1f6f8ecd', 'service_tier': None, 'finish_reason': 'stop', 'logprobs': None}, id='run--5225dc1c-ab62-415c-a1b0-47d339fa49a0-0', usage_metadata={'input_tokens': 12, 'output_tokens': 40, 'total_tokens': 52, 'input_token_details': {'cache_read': 0}, 'output_token_details': {}})]}\n"
     ]
    }
   ],
   "source": [
    "final_state = graph.invoke({\"messages\": [\"你好，我叫陈明，好久不见。\"]})\n",
    "print(final_state)"
   ]
  },
  {
   "cell_type": "markdown",
   "id": "b79dc534-3c24-45d9-8c9c-0705c51f7b3c",
   "metadata": {},
   "source": [
    "一次对话内容如下所示："
   ]
  },
  {
   "cell_type": "code",
   "execution_count": 65,
   "id": "71f45f6f-0164-481f-a983-b8be310d8f55",
   "metadata": {},
   "outputs": [
    {
     "data": {
      "text/plain": [
       "[HumanMessage(content='你好，我叫陈明，好久不见。', additional_kwargs={}, response_metadata={}, id='efecc8a9-dbe0-40ad-aedd-f3b741061ae2'),\n",
       " AIMessage(content='你好，陈明！确实好久不见，很高兴能和你再次联系。最近过得怎么样？一切还顺利吗？如果有任何想聊的或者需要帮助的地方，随时告诉我哦～ 😊', additional_kwargs={'refusal': None}, response_metadata={'token_usage': {'completion_tokens': 40, 'prompt_tokens': 12, 'total_tokens': 52, 'completion_tokens_details': None, 'prompt_tokens_details': {'audio_tokens': None, 'cached_tokens': 0}, 'prompt_cache_hit_tokens': 0, 'prompt_cache_miss_tokens': 12}, 'model_name': 'deepseek-chat', 'system_fingerprint': 'fp_8802369eaa_prod0623_fp8_kvcache', 'id': '39c79867-f3ab-4476-843d-3c0b1f6f8ecd', 'service_tier': None, 'finish_reason': 'stop', 'logprobs': None}, id='run--5225dc1c-ab62-415c-a1b0-47d339fa49a0-0', usage_metadata={'input_tokens': 12, 'output_tokens': 40, 'total_tokens': 52, 'input_token_details': {'cache_read': 0}, 'output_token_details': {}})]"
      ]
     },
     "execution_count": 65,
     "metadata": {},
     "output_type": "execute_result"
    }
   ],
   "source": [
    "final_state['messages']"
   ]
  },
  {
   "cell_type": "code",
   "execution_count": 66,
   "id": "b9615585-0335-4ab1-bbdb-2f8c6f8ead2e",
   "metadata": {},
   "outputs": [
    {
     "data": {
      "text/plain": [
       "HumanMessage(content='你好，我叫陈明，好久不见。', additional_kwargs={}, response_metadata={}, id='efecc8a9-dbe0-40ad-aedd-f3b741061ae2')"
      ]
     },
     "execution_count": 66,
     "metadata": {},
     "output_type": "execute_result"
    }
   ],
   "source": [
    "final_state['messages'][0]"
   ]
  },
  {
   "cell_type": "code",
   "execution_count": 67,
   "id": "8c6af395-cdb4-4921-90c9-daf56e53ee96",
   "metadata": {},
   "outputs": [
    {
     "data": {
      "text/plain": [
       "'efecc8a9-dbe0-40ad-aedd-f3b741061ae2'"
      ]
     },
     "execution_count": 67,
     "metadata": {},
     "output_type": "execute_result"
    }
   ],
   "source": [
    "final_state['messages'][0].id"
   ]
  },
  {
   "cell_type": "code",
   "execution_count": 68,
   "id": "77b1f788-bc23-49fa-b74b-cb6c923203b5",
   "metadata": {},
   "outputs": [
    {
     "data": {
      "text/plain": [
       "'你好，我叫陈明，好久不见。'"
      ]
     },
     "execution_count": 68,
     "metadata": {},
     "output_type": "execute_result"
    }
   ],
   "source": [
    "final_state['messages'][0].content"
   ]
  },
  {
   "cell_type": "code",
   "execution_count": 69,
   "id": "53aa35f9-16e4-49c0-9606-200667599402",
   "metadata": {},
   "outputs": [
    {
     "data": {
      "text/plain": [
       "AIMessage(content='你好，陈明！确实好久不见，很高兴能和你再次联系。最近过得怎么样？一切还顺利吗？如果有任何想聊的或者需要帮助的地方，随时告诉我哦～ 😊', additional_kwargs={'refusal': None}, response_metadata={'token_usage': {'completion_tokens': 40, 'prompt_tokens': 12, 'total_tokens': 52, 'completion_tokens_details': None, 'prompt_tokens_details': {'audio_tokens': None, 'cached_tokens': 0}, 'prompt_cache_hit_tokens': 0, 'prompt_cache_miss_tokens': 12}, 'model_name': 'deepseek-chat', 'system_fingerprint': 'fp_8802369eaa_prod0623_fp8_kvcache', 'id': '39c79867-f3ab-4476-843d-3c0b1f6f8ecd', 'service_tier': None, 'finish_reason': 'stop', 'logprobs': None}, id='run--5225dc1c-ab62-415c-a1b0-47d339fa49a0-0', usage_metadata={'input_tokens': 12, 'output_tokens': 40, 'total_tokens': 52, 'input_token_details': {'cache_read': 0}, 'output_token_details': {}})"
      ]
     },
     "execution_count": 69,
     "metadata": {},
     "output_type": "execute_result"
    }
   ],
   "source": [
    "final_state['messages'][1]"
   ]
  },
  {
   "cell_type": "code",
   "execution_count": 70,
   "id": "ba5f69b4-adcd-480a-8558-299a1ce14b03",
   "metadata": {},
   "outputs": [
    {
     "data": {
      "text/plain": [
       "'run--5225dc1c-ab62-415c-a1b0-47d339fa49a0-0'"
      ]
     },
     "execution_count": 70,
     "metadata": {},
     "output_type": "execute_result"
    }
   ],
   "source": [
    "final_state['messages'][1].id"
   ]
  },
  {
   "cell_type": "code",
   "execution_count": 71,
   "id": "8cbe3fe6-0b55-464d-bed9-afbb6316b088",
   "metadata": {},
   "outputs": [
    {
     "data": {
      "text/plain": [
       "'你好，陈明！确实好久不见，很高兴能和你再次联系。最近过得怎么样？一切还顺利吗？如果有任何想聊的或者需要帮助的地方，随时告诉我哦～ 😊'"
      ]
     },
     "execution_count": 71,
     "metadata": {},
     "output_type": "execute_result"
    }
   ],
   "source": [
    "final_state['messages'][1].content"
   ]
  },
  {
   "cell_type": "code",
   "execution_count": 72,
   "id": "bc0280ba-2d87-4ab5-acd1-6796074414c6",
   "metadata": {},
   "outputs": [],
   "source": [
    "from langchain_core.messages import AIMessage, HumanMessage, SystemMessage"
   ]
  },
  {
   "cell_type": "code",
   "execution_count": 73,
   "id": "3b5dde40-f8d8-434e-8d6e-8e236f49112c",
   "metadata": {},
   "outputs": [],
   "source": [
    "messages_list = [\n",
    "    HumanMessage(content=\"你好，我叫陈明，好久不见。\"),\n",
    "    AIMessage(content=\"你好呀！我是小智，一名乐于助人的AI助手。很高兴认识你！\"),\n",
    "    HumanMessage(content=\"请问，你还记得我叫什么名字么？\"),\n",
    "]"
   ]
  },
  {
   "cell_type": "code",
   "execution_count": 74,
   "id": "fa53721c-c1fb-40ab-9d8c-df4c8f270a47",
   "metadata": {},
   "outputs": [
    {
     "name": "stdout",
     "output_type": "stream",
     "text": [
      "{'messages': [HumanMessage(content='你好，我叫陈明，好久不见。', additional_kwargs={}, response_metadata={}, id='a87e253d-d451-46ee-aa08-27cfc2c02da5'), AIMessage(content='你好呀！我是小智，一名乐于助人的AI助手。很高兴认识你！', additional_kwargs={}, response_metadata={}, id='c3008865-f944-42bc-8aa6-32f3504e3ecc'), HumanMessage(content='请问，你还记得我叫什么名字么？', additional_kwargs={}, response_metadata={}, id='ec112d31-11d1-4684-b717-0c0ef9095164'), AIMessage(content='当然记得！你刚才说过你叫**陈明**，很高兴再次和你聊天～ 😊  \\n有什么我可以帮你的吗？', additional_kwargs={'refusal': None}, response_metadata={'token_usage': {'completion_tokens': 27, 'prompt_tokens': 42, 'total_tokens': 69, 'completion_tokens_details': None, 'prompt_tokens_details': {'audio_tokens': None, 'cached_tokens': 0}, 'prompt_cache_hit_tokens': 0, 'prompt_cache_miss_tokens': 42}, 'model_name': 'deepseek-chat', 'system_fingerprint': 'fp_8802369eaa_prod0623_fp8_kvcache', 'id': 'e37759c1-dbaf-4e08-a0ff-4c517d96cb32', 'service_tier': None, 'finish_reason': 'stop', 'logprobs': None}, id='run--05c9c795-d3d2-4aa4-b527-c2125d1bd1ff-0', usage_metadata={'input_tokens': 42, 'output_tokens': 27, 'total_tokens': 69, 'input_token_details': {'cache_read': 0}, 'output_token_details': {}})]}\n"
     ]
    }
   ],
   "source": [
    "final_state = graph.invoke({\"messages\": messages_list})\n",
    "print(final_state)"
   ]
  },
  {
   "cell_type": "code",
   "execution_count": 75,
   "id": "f42a5b5f-7d04-4bda-9f49-3b3c8797ace7",
   "metadata": {},
   "outputs": [
    {
     "data": {
      "text/plain": [
       "'当然记得！你刚才说过你叫**陈明**，很高兴再次和你聊天～ 😊  \\n有什么我可以帮你的吗？'"
      ]
     },
     "execution_count": 75,
     "metadata": {},
     "output_type": "execute_result"
    }
   ],
   "source": [
    "final_state['messages'][-1].content"
   ]
  },
  {
   "cell_type": "markdown",
   "id": "ee2d3555-ed7d-4670-8835-a486ca56d092",
   "metadata": {},
   "source": [
    "&emsp;&emsp;据此，我们可以直接调用这个编译好的图`graph`，即可实现一个可交互式的聊天机器人。代码如下："
   ]
  },
  {
   "cell_type": "code",
   "execution_count": 77,
   "id": "e968a713-310b-4fb7-9fc3-5664a5d185ee",
   "metadata": {},
   "outputs": [
    {
     "name": "stdout",
     "output_type": "stream",
     "text": [
      "用户提问:  你好，我叫陈明，好久不见。\n"
     ]
    },
    {
     "name": "stdout",
     "output_type": "stream",
     "text": [
      "🤖 小智： 你好，陈明！确实好久不见，很高兴能和你聊天。最近过得怎么样？有什么新鲜事想分享吗？或者有什么我可以帮你的呢？😊\n"
     ]
    },
    {
     "name": "stdout",
     "output_type": "stream",
     "text": [
      "用户提问:  你好记得我叫什么名字么？\n"
     ]
    },
    {
     "name": "stdout",
     "output_type": "stream",
     "text": [
      "🤖 小智： 当然记得呀！你刚刚说过你叫**陈明**，对吧？😊 我记性还不错，不过如果中间隔太久或聊天记录清空的话可能会忘记～ 有什么需要帮忙的吗？\n"
     ]
    },
    {
     "name": "stdout",
     "output_type": "stream",
     "text": [
      "用户提问:  exit\n"
     ]
    },
    {
     "name": "stdout",
     "output_type": "stream",
     "text": [
      "下次再见！\n"
     ]
    }
   ],
   "source": [
    "messages_list = []\n",
    "\n",
    "while True:\n",
    "    try:\n",
    "        user_input = input(\"用户提问: \")\n",
    "        if user_input.lower() in [\"exit\"]: \n",
    "            print(\"下次再见！\")\n",
    "            break\n",
    "        messages_list.append(HumanMessage(content=user_input))\n",
    "        final_state = graph.invoke({\"messages\": messages_list})\n",
    "        print(\"🤖 小智：\", final_state['messages'][-1].content)\n",
    "        messages_list.append(final_state['messages'][-1])\n",
    "        messages_list = messages_list[-50:]\n",
    "    except:\n",
    "        break"
   ]
  },
  {
   "cell_type": "markdown",
   "id": "cec4e319-d536-47df-b115-f3f4fdba2816",
   "metadata": {},
   "source": [
    "- 借助MemorySaver高效搭建多轮对话机器人"
   ]
  },
  {
   "cell_type": "markdown",
   "id": "1a837327-7c99-4870-86c9-fa98a2f9a427",
   "metadata": {},
   "source": [
    "🧠 MemorySaver 的核心功能\n",
    "\n",
    "1. **短期记忆（线程级记忆）**\n",
    "   MemorySaver 为每个 `thread_id` 保存和恢复对话状态（State），实现在同一会话中的历史上下文记忆。\n",
    "\n",
    "2. **状态持久化**\n",
    "   在每个节点运行后，State 会自动存储；再次调用时，如果使用相同的 `thread_id`，MemorySaver 会恢复此前保存的状态，无需手动传递历史信息 。\n",
    "\n",
    "3. **多会话隔离**\n",
    "   通过不同的 `thread_id` 可实现会话隔离，允许多个用户并发交互且各自的对话互不干扰。\n",
    "\n",
    "4. **图状态快照与恢复**\n",
    "   不仅包括对话历史，还保存整个工作流状态，可用于错误恢复、时间旅行、断点续跑、Human‑in‑the‑loop 等高级场景 。"
   ]
  },
  {
   "cell_type": "code",
   "execution_count": 82,
   "id": "567eb492-39d9-45c2-9523-6d198c1747ed",
   "metadata": {},
   "outputs": [],
   "source": [
    "from typing import Annotated\n",
    "from typing_extensions import TypedDict\n",
    "from langgraph.graph import StateGraph, START, END\n",
    "from langgraph.graph.message import add_messages\n",
    "from langchain.chat_models import init_chat_model\n",
    "from langgraph.checkpoint.memory import MemorySaver\n",
    "\n",
    "# 1. 定义状态类（会自动合并 messages）\n",
    "class State(TypedDict):\n",
    "    messages: Annotated[list, add_messages]\n",
    "\n",
    "# 2. 初始化模型\n",
    "model = init_chat_model(model=\"deepseek-chat\", model_provider=\"deepseek\")\n",
    "\n",
    "# 3. 定义聊天节点\n",
    "def chatbot(state: State) -> State:\n",
    "    reply = model.invoke(state[\"messages\"])\n",
    "    return {\"messages\": [reply]}\n",
    "\n",
    "# 4. 构建带 MemorySaver 的图\n",
    "builder = StateGraph(State)\n",
    "builder.add_node(\"chatbot\", chatbot)\n",
    "builder.add_edge(START, \"chatbot\")\n",
    "memory = MemorySaver()\n",
    "graph = builder.compile(checkpointer=memory)"
   ]
  },
  {
   "cell_type": "code",
   "execution_count": 81,
   "id": "4e685cbb-f102-42ed-b813-04da86b8d6ce",
   "metadata": {},
   "outputs": [
    {
     "data": {
      "image/png": "[encoded data removed]",
      "text/plain": [
       "<IPython.core.display.Image object>"
      ]
     },
     "metadata": {},
     "output_type": "display_data"
    }
   ],
   "source": [
    "display(Image(graph.get_graph().draw_mermaid_png()))"
   ]
  },
  {
   "cell_type": "markdown",
   "id": "21af3ee8-2dd7-4c59-845e-025f37371bca",
   "metadata": {},
   "source": [
    "此时测试效果如下："
   ]
  },
  {
   "cell_type": "code",
   "execution_count": 89,
   "id": "908fbf87-6713-408b-94e1-5ab45237c618",
   "metadata": {},
   "outputs": [],
   "source": [
    "# 5. 运行多轮对话，使用相同 thread_id 实现记忆\n",
    "thread_config = {\"configurable\": {\"thread_id\": \"session_10\"}}"
   ]
  },
  {
   "cell_type": "code",
   "execution_count": 90,
   "id": "4c414a72-da8d-49fa-8d32-7f2989d05f8c",
   "metadata": {},
   "outputs": [],
   "source": [
    "# 第一轮对话\n",
    "state1 = graph.invoke({\"messages\": [{\"role\":\"user\",\"content\":\"你好，好久不见，我叫陈明。\"}]}, config=thread_config)"
   ]
  },
  {
   "cell_type": "code",
   "execution_count": 91,
   "id": "f13bde7c-7390-4406-b884-326b6b3664d3",
   "metadata": {},
   "outputs": [
    {
     "data": {
      "text/plain": [
       "{'messages': [HumanMessage(content='你好，好久不见，我叫陈明。', additional_kwargs={}, response_metadata={}, id='a438c211-7673-4384-9828-d6171e988cb0'),\n",
       "  AIMessage(content='你好呀，陈明！确实好久不见～很高兴再次和你聊天。最近过得怎么样？有没有什么新鲜事或者想分享的故事？😊  \\n\\n（如果你愿意的话，可以随时聊聊近况、兴趣，或者任何你想讨论的话题～）', additional_kwargs={'refusal': None}, response_metadata={'token_usage': {'completion_tokens': 51, 'prompt_tokens': 12, 'total_tokens': 63, 'completion_tokens_details': None, 'prompt_tokens_details': {'audio_tokens': None, 'cached_tokens': 0}, 'prompt_cache_hit_tokens': 0, 'prompt_cache_miss_tokens': 12}, 'model_name': 'deepseek-chat', 'system_fingerprint': 'fp_8802369eaa_prod0623_fp8_kvcache', 'id': '85f976bc-e6a9-450b-9f88-59091d08db61', 'service_tier': None, 'finish_reason': 'stop', 'logprobs': None}, id='run--7d936be1-afcf-4fda-bb36-16f02406270c-0', usage_metadata={'input_tokens': 12, 'output_tokens': 51, 'total_tokens': 63, 'input_token_details': {'cache_read': 0}, 'output_token_details': {}})]}"
      ]
     },
     "execution_count": 91,
     "metadata": {},
     "output_type": "execute_result"
    }
   ],
   "source": [
    "state1"
   ]
  },
  {
   "cell_type": "code",
   "execution_count": 94,
   "id": "cafecd18-7be3-4068-80c2-2e548fcbd54f",
   "metadata": {},
   "outputs": [
    {
     "data": {
      "text/plain": [
       "[HumanMessage(content='你好，好久不见，我叫陈明。', additional_kwargs={}, response_metadata={}, id='a438c211-7673-4384-9828-d6171e988cb0'),\n",
       " AIMessage(content='你好呀，陈明！确实好久不见～很高兴再次和你聊天。最近过得怎么样？有没有什么新鲜事或者想分享的故事？😊  \\n\\n（如果你愿意的话，可以随时聊聊近况、兴趣，或者任何你想讨论的话题～）', additional_kwargs={'refusal': None}, response_metadata={'token_usage': {'completion_tokens': 51, 'prompt_tokens': 12, 'total_tokens': 63, 'completion_tokens_details': None, 'prompt_tokens_details': {'audio_tokens': None, 'cached_tokens': 0}, 'prompt_cache_hit_tokens': 0, 'prompt_cache_miss_tokens': 12}, 'model_name': 'deepseek-chat', 'system_fingerprint': 'fp_8802369eaa_prod0623_fp8_kvcache', 'id': '85f976bc-e6a9-450b-9f88-59091d08db61', 'service_tier': None, 'finish_reason': 'stop', 'logprobs': None}, id='run--7d936be1-afcf-4fda-bb36-16f02406270c-0', usage_metadata={'input_tokens': 12, 'output_tokens': 51, 'total_tokens': 63, 'input_token_details': {'cache_read': 0}, 'output_token_details': {}})]"
      ]
     },
     "execution_count": 94,
     "metadata": {},
     "output_type": "execute_result"
    }
   ],
   "source": [
    "state1['messages']"
   ]
  },
  {
   "cell_type": "code",
   "execution_count": 93,
   "id": "7b06910b-c239-4b4f-9bf8-fe5317af3ec5",
   "metadata": {},
   "outputs": [
    {
     "data": {
      "text/plain": [
       "'你好呀，陈明！确实好久不见～很高兴再次和你聊天。最近过得怎么样？有没有什么新鲜事或者想分享的故事？😊  \\n\\n（如果你愿意的话，可以随时聊聊近况、兴趣，或者任何你想讨论的话题～）'"
      ]
     },
     "execution_count": 93,
     "metadata": {},
     "output_type": "execute_result"
    }
   ],
   "source": [
    "state1['messages'][-1].content"
   ]
  },
  {
   "cell_type": "code",
   "execution_count": 95,
   "id": "1339701b-15cd-4720-952f-faf210bd5294",
   "metadata": {},
   "outputs": [],
   "source": [
    "state2 = graph.invoke({\"messages\":[{\"role\":\"user\",\"content\":\"你好呀，你还记得我的名字吗？\"}]}, config=thread_config)"
   ]
  },
  {
   "cell_type": "code",
   "execution_count": 96,
   "id": "6df1f1dd-6e11-4d96-8a1a-171f3d231b41",
   "metadata": {},
   "outputs": [
    {
     "data": {
      "text/plain": [
       "[HumanMessage(content='你好，好久不见，我叫陈明。', additional_kwargs={}, response_metadata={}, id='a438c211-7673-4384-9828-d6171e988cb0'),\n",
       " AIMessage(content='你好呀，陈明！确实好久不见～很高兴再次和你聊天。最近过得怎么样？有没有什么新鲜事或者想分享的故事？😊  \\n\\n（如果你愿意的话，可以随时聊聊近况、兴趣，或者任何你想讨论的话题～）', additional_kwargs={'refusal': None}, response_metadata={'token_usage': {'completion_tokens': 51, 'prompt_tokens': 12, 'total_tokens': 63, 'completion_tokens_details': None, 'prompt_tokens_details': {'audio_tokens': None, 'cached_tokens': 0}, 'prompt_cache_hit_tokens': 0, 'prompt_cache_miss_tokens': 12}, 'model_name': 'deepseek-chat', 'system_fingerprint': 'fp_8802369eaa_prod0623_fp8_kvcache', 'id': '85f976bc-e6a9-450b-9f88-59091d08db61', 'service_tier': None, 'finish_reason': 'stop', 'logprobs': None}, id='run--7d936be1-afcf-4fda-bb36-16f02406270c-0', usage_metadata={'input_tokens': 12, 'output_tokens': 51, 'total_tokens': 63, 'input_token_details': {'cache_read': 0}, 'output_token_details': {}}),\n",
       " HumanMessage(content='你好呀，你还记得我的名字吗？', additional_kwargs={}, response_metadata={}, id='4d9f1ee6-2840-414b-9ccf-a30366d21c38'),\n",
       " AIMessage(content='当然记得呀！你刚刚说过你叫**陈明**嘛～（笑）  \\n我的记性可是很好的，至少在当前对话中不会忘哦～  \\n不过如果太久没聊天（比如新对话时），可能需要你再提醒我一下下～ 😄  \\n\\n最近怎么样？陈明，这个名字听起来就很有故事感呢！', additional_kwargs={'refusal': None}, response_metadata={'token_usage': {'completion_tokens': 69, 'prompt_tokens': 75, 'total_tokens': 144, 'completion_tokens_details': None, 'prompt_tokens_details': {'audio_tokens': None, 'cached_tokens': 0}, 'prompt_cache_hit_tokens': 0, 'prompt_cache_miss_tokens': 75}, 'model_name': 'deepseek-chat', 'system_fingerprint': 'fp_8802369eaa_prod0623_fp8_kvcache', 'id': '56174361-efd1-42bc-ae79-7b46f539c0f8', 'service_tier': None, 'finish_reason': 'stop', 'logprobs': None}, id='run--271d878c-2d2f-44b6-9922-ad798649392b-0', usage_metadata={'input_tokens': 75, 'output_tokens': 69, 'total_tokens': 144, 'input_token_details': {'cache_read': 0}, 'output_token_details': {}})]"
      ]
     },
     "execution_count": 96,
     "metadata": {},
     "output_type": "execute_result"
    }
   ],
   "source": [
    "state2['messages']"
   ]
  },
  {
   "cell_type": "code",
   "execution_count": 97,
   "id": "030de3c4-88ab-4570-8542-eb33c4a8394c",
   "metadata": {},
   "outputs": [
    {
     "data": {
      "text/plain": [
       "'当然记得呀！你刚刚说过你叫**陈明**嘛～（笑）  \\n我的记性可是很好的，至少在当前对话中不会忘哦～  \\n不过如果太久没聊天（比如新对话时），可能需要你再提醒我一下下～ 😄  \\n\\n最近怎么样？陈明，这个名字听起来就很有故事感呢！'"
      ]
     },
     "execution_count": 97,
     "metadata": {},
     "output_type": "execute_result"
    }
   ],
   "source": [
    "state2['messages'][-1].content"
   ]
  },
  {
   "cell_type": "code",
   "execution_count": 98,
   "id": "ece85912-9c02-4503-983c-f3fc6a9e471a",
   "metadata": {},
   "outputs": [
    {
     "data": {
      "text/plain": [
       "'当然记得！不过作为AI助手，我实际上无法保留之前的对话记录或个人信息哦～每次新的对话开始时，我都会像初次见面一样。但你可以随时告诉我你的名字或任何信息，我会在本次对话中尽力为你提供帮助！ 😊 现在想让我怎么称呼你呢？'"
      ]
     },
     "execution_count": 98,
     "metadata": {},
     "output_type": "execute_result"
    }
   ],
   "source": [
    "# 使用不同 thread_id，会开启全新对话\n",
    "state3 = graph.invoke({\"messages\":[{\"role\":\"user\",\"content\":\"记得我的名字吗？\"}]}, \n",
    "                      config={\"configurable\":{\"thread_id\":\"session_2\"}})\n",
    "state3['messages'][-1].content"
   ]
  },
  {
   "cell_type": "markdown",
   "id": "5a24dce1-5964-4f13-a7fd-f24216e6f9e8",
   "metadata": {},
   "source": [
    "- 查看记忆"
   ]
  },
  {
   "cell_type": "code",
   "execution_count": 107,
   "id": "7a0d6cee-3862-48b8-b33b-e04da18b57ef",
   "metadata": {},
   "outputs": [],
   "source": [
    "latest = graph.get_state(thread_config)"
   ]
  },
  {
   "cell_type": "code",
   "execution_count": 108,
   "id": "d54feee0-4af3-4ac9-a176-0f77de5e9412",
   "metadata": {},
   "outputs": [
    {
     "name": "stdout",
     "output_type": "stream",
     "text": [
      "[HumanMessage(content='你好，好久不见，我叫陈明。', additional_kwargs={}, response_metadata={}, id='a438c211-7673-4384-9828-d6171e988cb0'), AIMessage(content='你好呀，陈明！确实好久不见～很高兴再次和你聊天。最近过得怎么样？有没有什么新鲜事或者想分享的故事？😊  \\n\\n（如果你愿意的话，可以随时聊聊近况、兴趣，或者任何你想讨论的话题～）', additional_kwargs={'refusal': None}, response_metadata={'token_usage': {'completion_tokens': 51, 'prompt_tokens': 12, 'total_tokens': 63, 'completion_tokens_details': None, 'prompt_tokens_details': {'audio_tokens': None, 'cached_tokens': 0}, 'prompt_cache_hit_tokens': 0, 'prompt_cache_miss_tokens': 12}, 'model_name': 'deepseek-chat', 'system_fingerprint': 'fp_8802369eaa_prod0623_fp8_kvcache', 'id': '85f976bc-e6a9-450b-9f88-59091d08db61', 'service_tier': None, 'finish_reason': 'stop', 'logprobs': None}, id='run--7d936be1-afcf-4fda-bb36-16f02406270c-0', usage_metadata={'input_tokens': 12, 'output_tokens': 51, 'total_tokens': 63, 'input_token_details': {'cache_read': 0}, 'output_token_details': {}}), HumanMessage(content='你好呀，你还记得我的名字吗？', additional_kwargs={}, response_metadata={}, id='4d9f1ee6-2840-414b-9ccf-a30366d21c38'), AIMessage(content='当然记得呀！你刚刚说过你叫**陈明**嘛～（笑）  \\n我的记性可是很好的，至少在当前对话中不会忘哦～  \\n不过如果太久没聊天（比如新对话时），可能需要你再提醒我一下下～ 😄  \\n\\n最近怎么样？陈明，这个名字听起来就很有故事感呢！', additional_kwargs={'refusal': None}, response_metadata={'token_usage': {'completion_tokens': 69, 'prompt_tokens': 75, 'total_tokens': 144, 'completion_tokens_details': None, 'prompt_tokens_details': {'audio_tokens': None, 'cached_tokens': 0}, 'prompt_cache_hit_tokens': 0, 'prompt_cache_miss_tokens': 75}, 'model_name': 'deepseek-chat', 'system_fingerprint': 'fp_8802369eaa_prod0623_fp8_kvcache', 'id': '56174361-efd1-42bc-ae79-7b46f539c0f8', 'service_tier': None, 'finish_reason': 'stop', 'logprobs': None}, id='run--271d878c-2d2f-44b6-9922-ad798649392b-0', usage_metadata={'input_tokens': 75, 'output_tokens': 69, 'total_tokens': 144, 'input_token_details': {'cache_read': 0}, 'output_token_details': {}})]\n"
     ]
    }
   ],
   "source": [
    "print(latest.values[\"messages\"])  # 包含全部轮次对话"
   ]
  },
  {
   "cell_type": "markdown",
   "id": "1421ded9-e159-4fdf-980c-272d7510471c",
   "metadata": {},
   "source": [
    "### 2. LangGraph流式打印实现方法"
   ]
  },
  {
   "cell_type": "markdown",
   "id": "b90eb3c6-1d70-41f3-b050-24050c1341b2",
   "metadata": {},
   "source": [
    "&emsp;&emsp;在实际应用中，流式输出尤其适用于需要快速反馈的业务场景，典型的应用场景就是聊天机器人，因为**大语言模型可能需要几秒钟才能生成对查询的完整响应，这远远慢于应用程序对最终用户的响应速度约为 200-300 毫秒的阈值**，如果是涉及多个大模型调用的复杂应用程序，这种延时会变得更加明显。让应用程序感觉响应更快的关键策略是显示中间进度；即，通过 `token` 流式传输大模型`Token`的输出，以此来显著提升用户体验。而在开发阶段，利用流式输出功能可以准确追踪到事件的具体执行阶段，并捕获相关数据，从而接入不同逻辑的数据处理和决策流程。是我们在应用开发中必须理解和掌握的技术点。"
   ]
  },
  {
   "cell_type": "markdown",
   "id": "8df9d3ea-4c2c-4cba-95c0-23a8629df8af",
   "metadata": {},
   "source": [
    "&emsp;&emsp;**流式输出，这种方式允许客户端逐渐接收到大模型生成的每一部分内容，而不是等待整个响应完成后一次性接收**。\n",
    "\n",
    "&emsp;&emsp;这里我们可以先看下使用`deepseek-chat`模型的流式调用代码及输出情况。在流式输出的实现方式中，我们需要在调用 `client.chat.completions.create()` 时添加 `stream=True` 参数，用以指定启用流式输出，从而允许 `API` 逐步发送生成的文本片段，然后使用 `for` 循环来迭代 `completion` 对象，每次循环接收到的 `chunk.choices[0].delta` 中会包含最新生成的文本片段。完整代码如下所示："
   ]
  },
  {
   "cell_type": "code",
   "execution_count": 29,
   "id": "890489c9-2579-4581-b687-aa541d425f35",
   "metadata": {},
   "outputs": [],
   "source": [
    "import os\n",
    "from dotenv import load_dotenv \n",
    "load_dotenv(override=True)\n",
    "\n",
    "DeepSeek_API_KEY = os.getenv(\"DEEPSEEK_API_KEY\")\n",
    "\n",
    "# print(DeepSeek_API_KEY)  # 可以通过打印查看"
   ]
  },
  {
   "cell_type": "code",
   "execution_count": 30,
   "id": "54d3133e-2e76-4e9b-9b4e-6af8e6e560e0",
   "metadata": {
    "scrolled": true
   },
   "outputs": [
    {
     "name": "stdout",
     "output_type": "stream",
     "text": [
      "ChoiceDelta(content='', function_call=None, refusal=None, role='assistant', tool_calls=None)\n",
      "ChoiceDelta(content='你好', function_call=None, refusal=None, role=None, tool_calls=None)\n",
      "ChoiceDelta(content='呀', function_call=None, refusal=None, role=None, tool_calls=None)\n",
      "ChoiceDelta(content='！', function_call=None, refusal=None, role=None, tool_calls=None)\n",
      "ChoiceDelta(content='😊', function_call=None, refusal=None, role=None, tool_calls=None)\n",
      "ChoiceDelta(content=' ', function_call=None, refusal=None, role=None, tool_calls=None)\n",
      "ChoiceDelta(content='我是', function_call=None, refusal=None, role=None, tool_calls=None)\n",
      "ChoiceDelta(content=' **', function_call=None, refusal=None, role=None, tool_calls=None)\n",
      "ChoiceDelta(content='Deep', function_call=None, refusal=None, role=None, tool_calls=None)\n",
      "ChoiceDelta(content='Se', function_call=None, refusal=None, role=None, tool_calls=None)\n",
      "ChoiceDelta(content='ek', function_call=None, refusal=None, role=None, tool_calls=None)\n",
      "ChoiceDelta(content=' Chat', function_call=None, refusal=None, role=None, tool_calls=None)\n",
      "ChoiceDelta(content='**', function_call=None, refusal=None, role=None, tool_calls=None)\n",
      "ChoiceDelta(content='，', function_call=None, refusal=None, role=None, tool_calls=None)\n",
      "ChoiceDelta(content='由', function_call=None, refusal=None, role=None, tool_calls=None)\n",
      "ChoiceDelta(content='深度', function_call=None, refusal=None, role=None, tool_calls=None)\n",
      "ChoiceDelta(content='求', function_call=None, refusal=None, role=None, tool_calls=None)\n",
      "ChoiceDelta(content='索', function_call=None, refusal=None, role=None, tool_calls=None)\n",
      "ChoiceDelta(content='（', function_call=None, refusal=None, role=None, tool_calls=None)\n",
      "ChoiceDelta(content='Deep', function_call=None, refusal=None, role=None, tool_calls=None)\n",
      "ChoiceDelta(content='Se', function_call=None, refusal=None, role=None, tool_calls=None)\n",
      "ChoiceDelta(content='ek', function_call=None, refusal=None, role=None, tool_calls=None)\n",
      "ChoiceDelta(content='）', function_call=None, refusal=None, role=None, tool_calls=None)\n",
      "ChoiceDelta(content='公司', function_call=None, refusal=None, role=None, tool_calls=None)\n",
      "ChoiceDelta(content='研发', function_call=None, refusal=None, role=None, tool_calls=None)\n",
      "ChoiceDelta(content='的', function_call=None, refusal=None, role=None, tool_calls=None)\n",
      "ChoiceDelta(content='智能', function_call=None, refusal=None, role=None, tool_calls=None)\n",
      "ChoiceDelta(content=' AI', function_call=None, refusal=None, role=None, tool_calls=None)\n",
      "ChoiceDelta(content=' ', function_call=None, refusal=None, role=None, tool_calls=None)\n",
      "ChoiceDelta(content='助手', function_call=None, refusal=None, role=None, tool_calls=None)\n",
      "ChoiceDelta(content='。', function_call=None, refusal=None, role=None, tool_calls=None)\n",
      "ChoiceDelta(content='我的', function_call=None, refusal=None, role=None, tool_calls=None)\n",
      "ChoiceDelta(content='版本', function_call=None, refusal=None, role=None, tool_calls=None)\n",
      "ChoiceDelta(content='是', function_call=None, refusal=None, role=None, tool_calls=None)\n",
      "ChoiceDelta(content=' **', function_call=None, refusal=None, role=None, tool_calls=None)\n",
      "ChoiceDelta(content='Deep', function_call=None, refusal=None, role=None, tool_calls=None)\n",
      "ChoiceDelta(content='Se', function_call=None, refusal=None, role=None, tool_calls=None)\n",
      "ChoiceDelta(content='ek', function_call=None, refusal=None, role=None, tool_calls=None)\n",
      "ChoiceDelta(content='-V', function_call=None, refusal=None, role=None, tool_calls=None)\n",
      "ChoiceDelta(content='3', function_call=None, refusal=None, role=None, tool_calls=None)\n",
      "ChoiceDelta(content='**', function_call=None, refusal=None, role=None, tool_calls=None)\n",
      "ChoiceDelta(content='，', function_call=None, refusal=None, role=None, tool_calls=None)\n",
      "ChoiceDelta(content='知识', function_call=None, refusal=None, role=None, tool_calls=None)\n",
      "ChoiceDelta(content='截止', function_call=None, refusal=None, role=None, tool_calls=None)\n",
      "ChoiceDelta(content='日期', function_call=None, refusal=None, role=None, tool_calls=None)\n",
      "ChoiceDelta(content='是', function_call=None, refusal=None, role=None, tool_calls=None)\n",
      "ChoiceDelta(content=' **', function_call=None, refusal=None, role=None, tool_calls=None)\n",
      "ChoiceDelta(content='202', function_call=None, refusal=None, role=None, tool_calls=None)\n",
      "ChoiceDelta(content='4', function_call=None, refusal=None, role=None, tool_calls=None)\n",
      "ChoiceDelta(content='年', function_call=None, refusal=None, role=None, tool_calls=None)\n",
      "ChoiceDelta(content='7', function_call=None, refusal=None, role=None, tool_calls=None)\n",
      "ChoiceDelta(content='月', function_call=None, refusal=None, role=None, tool_calls=None)\n",
      "ChoiceDelta(content='**', function_call=None, refusal=None, role=None, tool_calls=None)\n",
      "ChoiceDelta(content='，', function_call=None, refusal=None, role=None, tool_calls=None)\n",
      "ChoiceDelta(content='可以', function_call=None, refusal=None, role=None, tool_calls=None)\n",
      "ChoiceDelta(content='处理', function_call=None, refusal=None, role=None, tool_calls=None)\n",
      "ChoiceDelta(content=' **', function_call=None, refusal=None, role=None, tool_calls=None)\n",
      "ChoiceDelta(content='128', function_call=None, refusal=None, role=None, tool_calls=None)\n",
      "ChoiceDelta(content='K', function_call=None, refusal=None, role=None, tool_calls=None)\n",
      "ChoiceDelta(content=' ', function_call=None, refusal=None, role=None, tool_calls=None)\n",
      "ChoiceDelta(content='上下文', function_call=None, refusal=None, role=None, tool_calls=None)\n",
      "ChoiceDelta(content='**', function_call=None, refusal=None, role=None, tool_calls=None)\n",
      "ChoiceDelta(content='，', function_call=None, refusal=None, role=None, tool_calls=None)\n",
      "ChoiceDelta(content='并', function_call=None, refusal=None, role=None, tool_calls=None)\n",
      "ChoiceDelta(content='支持', function_call=None, refusal=None, role=None, tool_calls=None)\n",
      "ChoiceDelta(content=' **', function_call=None, refusal=None, role=None, tool_calls=None)\n",
      "ChoiceDelta(content='文件', function_call=None, refusal=None, role=None, tool_calls=None)\n",
      "ChoiceDelta(content='上传', function_call=None, refusal=None, role=None, tool_calls=None)\n",
      "ChoiceDelta(content='**', function_call=None, refusal=None, role=None, tool_calls=None)\n",
      "ChoiceDelta(content='（', function_call=None, refusal=None, role=None, tool_calls=None)\n",
      "ChoiceDelta(content='如', function_call=None, refusal=None, role=None, tool_calls=None)\n",
      "ChoiceDelta(content=' PDF', function_call=None, refusal=None, role=None, tool_calls=None)\n",
      "ChoiceDelta(content='、', function_call=None, refusal=None, role=None, tool_calls=None)\n",
      "ChoiceDelta(content='Word', function_call=None, refusal=None, role=None, tool_calls=None)\n",
      "ChoiceDelta(content='、', function_call=None, refusal=None, role=None, tool_calls=None)\n",
      "ChoiceDelta(content='Excel', function_call=None, refusal=None, role=None, tool_calls=None)\n",
      "ChoiceDelta(content=' ', function_call=None, refusal=None, role=None, tool_calls=None)\n",
      "ChoiceDelta(content='等', function_call=None, refusal=None, role=None, tool_calls=None)\n",
      "ChoiceDelta(content='）', function_call=None, refusal=None, role=None, tool_calls=None)\n",
      "ChoiceDelta(content='进行', function_call=None, refusal=None, role=None, tool_calls=None)\n",
      "ChoiceDelta(content='内容', function_call=None, refusal=None, role=None, tool_calls=None)\n",
      "ChoiceDelta(content='分析', function_call=None, refusal=None, role=None, tool_calls=None)\n",
      "ChoiceDelta(content='。', function_call=None, refusal=None, role=None, tool_calls=None)\n",
      "ChoiceDelta(content='  \\n\\n', function_call=None, refusal=None, role=None, tool_calls=None)\n",
      "ChoiceDelta(content='###', function_call=None, refusal=None, role=None, tool_calls=None)\n",
      "ChoiceDelta(content=' ✨', function_call=None, refusal=None, role=None, tool_calls=None)\n",
      "ChoiceDelta(content=' **', function_call=None, refusal=None, role=None, tool_calls=None)\n",
      "ChoiceDelta(content='我的', function_call=None, refusal=None, role=None, tool_calls=None)\n",
      "ChoiceDelta(content='特点', function_call=None, refusal=None, role=None, tool_calls=None)\n",
      "ChoiceDelta(content='**', function_call=None, refusal=None, role=None, tool_calls=None)\n",
      "ChoiceDelta(content='：\\n', function_call=None, refusal=None, role=None, tool_calls=None)\n",
      "ChoiceDelta(content='-', function_call=None, refusal=None, role=None, tool_calls=None)\n",
      "ChoiceDelta(content=' **', function_call=None, refusal=None, role=None, tool_calls=None)\n",
      "ChoiceDelta(content='免费', function_call=None, refusal=None, role=None, tool_calls=None)\n",
      "ChoiceDelta(content='使用', function_call=None, refusal=None, role=None, tool_calls=None)\n",
      "ChoiceDelta(content='**', function_call=None, refusal=None, role=None, tool_calls=None)\n",
      "ChoiceDelta(content='：', function_call=None, refusal=None, role=None, tool_calls=None)\n",
      "ChoiceDelta(content='目前', function_call=None, refusal=None, role=None, tool_calls=None)\n",
      "ChoiceDelta(content='不', function_call=None, refusal=None, role=None, tool_calls=None)\n",
      "ChoiceDelta(content='收费', function_call=None, refusal=None, role=None, tool_calls=None)\n",
      "ChoiceDelta(content='，', function_call=None, refusal=None, role=None, tool_calls=None)\n",
      "ChoiceDelta(content='随时', function_call=None, refusal=None, role=None, tool_calls=None)\n",
      "ChoiceDelta(content='为你', function_call=None, refusal=None, role=None, tool_calls=None)\n",
      "ChoiceDelta(content='解答', function_call=None, refusal=None, role=None, tool_calls=None)\n",
      "ChoiceDelta(content='问题', function_call=None, refusal=None, role=None, tool_calls=None)\n",
      "ChoiceDelta(content='！', function_call=None, refusal=None, role=None, tool_calls=None)\n",
      "ChoiceDelta(content='  \\n', function_call=None, refusal=None, role=None, tool_calls=None)\n",
      "ChoiceDelta(content='-', function_call=None, refusal=None, role=None, tool_calls=None)\n",
      "ChoiceDelta(content=' **', function_call=None, refusal=None, role=None, tool_calls=None)\n",
      "ChoiceDelta(content='强大的', function_call=None, refusal=None, role=None, tool_calls=None)\n",
      "ChoiceDelta(content='理解', function_call=None, refusal=None, role=None, tool_calls=None)\n",
      "ChoiceDelta(content='与', function_call=None, refusal=None, role=None, tool_calls=None)\n",
      "ChoiceDelta(content='生成', function_call=None, refusal=None, role=None, tool_calls=None)\n",
      "ChoiceDelta(content='能力', function_call=None, refusal=None, role=None, tool_calls=None)\n",
      "ChoiceDelta(content='**', function_call=None, refusal=None, role=None, tool_calls=None)\n",
      "ChoiceDelta(content='：', function_call=None, refusal=None, role=None, tool_calls=None)\n",
      "ChoiceDelta(content='可以', function_call=None, refusal=None, role=None, tool_calls=None)\n",
      "ChoiceDelta(content='帮你', function_call=None, refusal=None, role=None, tool_calls=None)\n",
      "ChoiceDelta(content='写作', function_call=None, refusal=None, role=None, tool_calls=None)\n",
      "ChoiceDelta(content='、', function_call=None, refusal=None, role=None, tool_calls=None)\n",
      "ChoiceDelta(content='翻译', function_call=None, refusal=None, role=None, tool_calls=None)\n",
      "ChoiceDelta(content='、', function_call=None, refusal=None, role=None, tool_calls=None)\n",
      "ChoiceDelta(content='编程', function_call=None, refusal=None, role=None, tool_calls=None)\n",
      "ChoiceDelta(content='、', function_call=None, refusal=None, role=None, tool_calls=None)\n",
      "ChoiceDelta(content='学习', function_call=None, refusal=None, role=None, tool_calls=None)\n",
      "ChoiceDelta(content='、', function_call=None, refusal=None, role=None, tool_calls=None)\n",
      "ChoiceDelta(content='办公', function_call=None, refusal=None, role=None, tool_calls=None)\n",
      "ChoiceDelta(content='等', function_call=None, refusal=None, role=None, tool_calls=None)\n",
      "ChoiceDelta(content='。', function_call=None, refusal=None, role=None, tool_calls=None)\n",
      "ChoiceDelta(content='  \\n', function_call=None, refusal=None, role=None, tool_calls=None)\n",
      "ChoiceDelta(content='-', function_call=None, refusal=None, role=None, tool_calls=None)\n",
      "ChoiceDelta(content=' **', function_call=None, refusal=None, role=None, tool_calls=None)\n",
      "ChoiceDelta(content='超', function_call=None, refusal=None, role=None, tool_calls=None)\n",
      "ChoiceDelta(content='长', function_call=None, refusal=None, role=None, tool_calls=None)\n",
      "ChoiceDelta(content='上下文', function_call=None, refusal=None, role=None, tool_calls=None)\n",
      "ChoiceDelta(content='记忆', function_call=None, refusal=None, role=None, tool_calls=None)\n",
      "ChoiceDelta(content='**', function_call=None, refusal=None, role=None, tool_calls=None)\n",
      "ChoiceDelta(content='：', function_call=None, refusal=None, role=None, tool_calls=None)\n",
      "ChoiceDelta(content='能', function_call=None, refusal=None, role=None, tool_calls=None)\n",
      "ChoiceDelta(content='记住', function_call=None, refusal=None, role=None, tool_calls=None)\n",
      "ChoiceDelta(content='长达', function_call=None, refusal=None, role=None, tool_calls=None)\n",
      "ChoiceDelta(content=' **', function_call=None, refusal=None, role=None, tool_calls=None)\n",
      "ChoiceDelta(content='128', function_call=None, refusal=None, role=None, tool_calls=None)\n",
      "ChoiceDelta(content='K', function_call=None, refusal=None, role=None, tool_calls=None)\n",
      "ChoiceDelta(content='**', function_call=None, refusal=None, role=None, tool_calls=None)\n",
      "ChoiceDelta(content=' ', function_call=None, refusal=None, role=None, tool_calls=None)\n",
      "ChoiceDelta(content='的', function_call=None, refusal=None, role=None, tool_calls=None)\n",
      "ChoiceDelta(content='对话', function_call=None, refusal=None, role=None, tool_calls=None)\n",
      "ChoiceDelta(content='内容', function_call=None, refusal=None, role=None, tool_calls=None)\n",
      "ChoiceDelta(content='，', function_call=None, refusal=None, role=None, tool_calls=None)\n",
      "ChoiceDelta(content='适合', function_call=None, refusal=None, role=None, tool_calls=None)\n",
      "ChoiceDelta(content='处理', function_call=None, refusal=None, role=None, tool_calls=None)\n",
      "ChoiceDelta(content='长', function_call=None, refusal=None, role=None, tool_calls=None)\n",
      "ChoiceDelta(content='文档', function_call=None, refusal=None, role=None, tool_calls=None)\n",
      "ChoiceDelta(content='或', function_call=None, refusal=None, role=None, tool_calls=None)\n",
      "ChoiceDelta(content='复杂', function_call=None, refusal=None, role=None, tool_calls=None)\n",
      "ChoiceDelta(content='问题', function_call=None, refusal=None, role=None, tool_calls=None)\n",
      "ChoiceDelta(content='。', function_call=None, refusal=None, role=None, tool_calls=None)\n",
      "ChoiceDelta(content='  \\n', function_call=None, refusal=None, role=None, tool_calls=None)\n",
      "ChoiceDelta(content='-', function_call=None, refusal=None, role=None, tool_calls=None)\n",
      "ChoiceDelta(content=' **', function_call=None, refusal=None, role=None, tool_calls=None)\n",
      "ChoiceDelta(content='文件', function_call=None, refusal=None, role=None, tool_calls=None)\n",
      "ChoiceDelta(content='阅读', function_call=None, refusal=None, role=None, tool_calls=None)\n",
      "ChoiceDelta(content='**', function_call=None, refusal=None, role=None, tool_calls=None)\n",
      "ChoiceDelta(content='：', function_call=None, refusal=None, role=None, tool_calls=None)\n",
      "ChoiceDelta(content='支持', function_call=None, refusal=None, role=None, tool_calls=None)\n",
      "ChoiceDelta(content='上传', function_call=None, refusal=None, role=None, tool_calls=None)\n",
      "ChoiceDelta(content=' **', function_call=None, refusal=None, role=None, tool_calls=None)\n",
      "ChoiceDelta(content='txt', function_call=None, refusal=None, role=None, tool_calls=None)\n",
      "ChoiceDelta(content='、', function_call=None, refusal=None, role=None, tool_calls=None)\n",
      "ChoiceDelta(content='pdf', function_call=None, refusal=None, role=None, tool_calls=None)\n",
      "ChoiceDelta(content='、', function_call=None, refusal=None, role=None, tool_calls=None)\n",
      "ChoiceDelta(content='ppt', function_call=None, refusal=None, role=None, tool_calls=None)\n",
      "ChoiceDelta(content='、', function_call=None, refusal=None, role=None, tool_calls=None)\n",
      "ChoiceDelta(content='word', function_call=None, refusal=None, role=None, tool_calls=None)\n",
      "ChoiceDelta(content='、', function_call=None, refusal=None, role=None, tool_calls=None)\n",
      "ChoiceDelta(content='ex', function_call=None, refusal=None, role=None, tool_calls=None)\n",
      "ChoiceDelta(content='cel', function_call=None, refusal=None, role=None, tool_calls=None)\n",
      "ChoiceDelta(content='**', function_call=None, refusal=None, role=None, tool_calls=None)\n",
      "ChoiceDelta(content=' ', function_call=None, refusal=None, role=None, tool_calls=None)\n",
      "ChoiceDelta(content='等', function_call=None, refusal=None, role=None, tool_calls=None)\n",
      "ChoiceDelta(content='文件', function_call=None, refusal=None, role=None, tool_calls=None)\n",
      "ChoiceDelta(content='，', function_call=None, refusal=None, role=None, tool_calls=None)\n",
      "ChoiceDelta(content='并', function_call=None, refusal=None, role=None, tool_calls=None)\n",
      "ChoiceDelta(content='提取', function_call=None, refusal=None, role=None, tool_calls=None)\n",
      "ChoiceDelta(content='关键', function_call=None, refusal=None, role=None, tool_calls=None)\n",
      "ChoiceDelta(content='信息', function_call=None, refusal=None, role=None, tool_calls=None)\n",
      "ChoiceDelta(content='。', function_call=None, refusal=None, role=None, tool_calls=None)\n",
      "ChoiceDelta(content='  \\n', function_call=None, refusal=None, role=None, tool_calls=None)\n",
      "ChoiceDelta(content='-', function_call=None, refusal=None, role=None, tool_calls=None)\n",
      "ChoiceDelta(content=' **', function_call=None, refusal=None, role=None, tool_calls=None)\n",
      "ChoiceDelta(content='持续', function_call=None, refusal=None, role=None, tool_calls=None)\n",
      "ChoiceDelta(content='进步', function_call=None, refusal=None, role=None, tool_calls=None)\n",
      "ChoiceDelta(content='**', function_call=None, refusal=None, role=None, tool_calls=None)\n",
      "ChoiceDelta(content='：', function_call=None, refusal=None, role=None, tool_calls=None)\n",
      "ChoiceDelta(content='团队', function_call=None, refusal=None, role=None, tool_calls=None)\n",
      "ChoiceDelta(content='在', function_call=None, refusal=None, role=None, tool_calls=None)\n",
      "ChoiceDelta(content='持续', function_call=None, refusal=None, role=None, tool_calls=None)\n",
      "ChoiceDelta(content='优化', function_call=None, refusal=None, role=None, tool_calls=None)\n",
      "ChoiceDelta(content='我', function_call=None, refusal=None, role=None, tool_calls=None)\n",
      "ChoiceDelta(content='，', function_call=None, refusal=None, role=None, tool_calls=None)\n",
      "ChoiceDelta(content='让我', function_call=None, refusal=None, role=None, tool_calls=None)\n",
      "ChoiceDelta(content='变得更', function_call=None, refusal=None, role=None, tool_calls=None)\n",
      "ChoiceDelta(content='聪明', function_call=None, refusal=None, role=None, tool_calls=None)\n",
      "ChoiceDelta(content='、', function_call=None, refusal=None, role=None, tool_calls=None)\n",
      "ChoiceDelta(content='更', function_call=None, refusal=None, role=None, tool_calls=None)\n",
      "ChoiceDelta(content='贴心', function_call=None, refusal=None, role=None, tool_calls=None)\n",
      "ChoiceDelta(content='！', function_call=None, refusal=None, role=None, tool_calls=None)\n",
      "ChoiceDelta(content='  \\n\\n', function_call=None, refusal=None, role=None, tool_calls=None)\n",
      "ChoiceDelta(content='###', function_call=None, refusal=None, role=None, tool_calls=None)\n",
      "ChoiceDelta(content=' 🛠', function_call=None, refusal=None, role=None, tool_calls=None)\n",
      "ChoiceDelta(content=' **', function_call=None, refusal=None, role=None, tool_calls=None)\n",
      "ChoiceDelta(content='我能', function_call=None, refusal=None, role=None, tool_calls=None)\n",
      "ChoiceDelta(content='帮你', function_call=None, refusal=None, role=None, tool_calls=None)\n",
      "ChoiceDelta(content='做什么', function_call=None, refusal=None, role=None, tool_calls=None)\n",
      "ChoiceDelta(content='？', function_call=None, refusal=None, role=None, tool_calls=None)\n",
      "ChoiceDelta(content='**', function_call=None, refusal=None, role=None, tool_calls=None)\n",
      "ChoiceDelta(content='  \\n', function_call=None, refusal=None, role=None, tool_calls=None)\n",
      "ChoiceDelta(content='✅', function_call=None, refusal=None, role=None, tool_calls=None)\n",
      "ChoiceDelta(content=' **', function_call=None, refusal=None, role=None, tool_calls=None)\n",
      "ChoiceDelta(content='学习', function_call=None, refusal=None, role=None, tool_calls=None)\n",
      "ChoiceDelta(content=' &', function_call=None, refusal=None, role=None, tool_calls=None)\n",
      "ChoiceDelta(content=' ', function_call=None, refusal=None, role=None, tool_calls=None)\n",
      "ChoiceDelta(content='研究', function_call=None, refusal=None, role=None, tool_calls=None)\n",
      "ChoiceDelta(content='**', function_call=None, refusal=None, role=None, tool_calls=None)\n",
      "ChoiceDelta(content='：', function_call=None, refusal=None, role=None, tool_calls=None)\n",
      "ChoiceDelta(content='解题', function_call=None, refusal=None, role=None, tool_calls=None)\n",
      "ChoiceDelta(content='思路', function_call=None, refusal=None, role=None, tool_calls=None)\n",
      "ChoiceDelta(content='、', function_call=None, refusal=None, role=None, tool_calls=None)\n",
      "ChoiceDelta(content='论文', function_call=None, refusal=None, role=None, tool_calls=None)\n",
      "ChoiceDelta(content='润', function_call=None, refusal=None, role=None, tool_calls=None)\n",
      "ChoiceDelta(content='色', function_call=None, refusal=None, role=None, tool_calls=None)\n",
      "ChoiceDelta(content='、', function_call=None, refusal=None, role=None, tool_calls=None)\n",
      "ChoiceDelta(content='知识', function_call=None, refusal=None, role=None, tool_calls=None)\n",
      "ChoiceDelta(content='科普', function_call=None, refusal=None, role=None, tool_calls=None)\n",
      "ChoiceDelta(content='  \\n', function_call=None, refusal=None, role=None, tool_calls=None)\n",
      "ChoiceDelta(content='✅', function_call=None, refusal=None, role=None, tool_calls=None)\n",
      "ChoiceDelta(content=' **', function_call=None, refusal=None, role=None, tool_calls=None)\n",
      "ChoiceDelta(content='工作', function_call=None, refusal=None, role=None, tool_calls=None)\n",
      "ChoiceDelta(content=' &', function_call=None, refusal=None, role=None, tool_calls=None)\n",
      "ChoiceDelta(content=' ', function_call=None, refusal=None, role=None, tool_calls=None)\n",
      "ChoiceDelta(content='办公', function_call=None, refusal=None, role=None, tool_calls=None)\n",
      "ChoiceDelta(content='**', function_call=None, refusal=None, role=None, tool_calls=None)\n",
      "ChoiceDelta(content='：', function_call=None, refusal=None, role=None, tool_calls=None)\n",
      "ChoiceDelta(content='写', function_call=None, refusal=None, role=None, tool_calls=None)\n",
      "ChoiceDelta(content='报告', function_call=None, refusal=None, role=None, tool_calls=None)\n",
      "ChoiceDelta(content='、', function_call=None, refusal=None, role=None, tool_calls=None)\n",
      "ChoiceDelta(content='做', function_call=None, refusal=None, role=None, tool_calls=None)\n",
      "ChoiceDelta(content='PPT', function_call=None, refusal=None, role=None, tool_calls=None)\n",
      "ChoiceDelta(content='、', function_call=None, refusal=None, role=None, tool_calls=None)\n",
      "ChoiceDelta(content='数据分析', function_call=None, refusal=None, role=None, tool_calls=None)\n",
      "ChoiceDelta(content='、', function_call=None, refusal=None, role=None, tool_calls=None)\n",
      "ChoiceDelta(content='邮件', function_call=None, refusal=None, role=None, tool_calls=None)\n",
      "ChoiceDelta(content='撰写', function_call=None, refusal=None, role=None, tool_calls=None)\n",
      "ChoiceDelta(content='  \\n', function_call=None, refusal=None, role=None, tool_calls=None)\n",
      "ChoiceDelta(content='✅', function_call=None, refusal=None, role=None, tool_calls=None)\n",
      "ChoiceDelta(content=' **', function_call=None, refusal=None, role=None, tool_calls=None)\n",
      "ChoiceDelta(content='编程', function_call=None, refusal=None, role=None, tool_calls=None)\n",
      "ChoiceDelta(content=' &', function_call=None, refusal=None, role=None, tool_calls=None)\n",
      "ChoiceDelta(content=' ', function_call=None, refusal=None, role=None, tool_calls=None)\n",
      "ChoiceDelta(content='技术', function_call=None, refusal=None, role=None, tool_calls=None)\n",
      "ChoiceDelta(content='**', function_call=None, refusal=None, role=None, tool_calls=None)\n",
      "ChoiceDelta(content='：', function_call=None, refusal=None, role=None, tool_calls=None)\n",
      "ChoiceDelta(content='代码', function_call=None, refusal=None, role=None, tool_calls=None)\n",
      "ChoiceDelta(content='调试', function_call=None, refusal=None, role=None, tool_calls=None)\n",
      "ChoiceDelta(content='、', function_call=None, refusal=None, role=None, tool_calls=None)\n",
      "ChoiceDelta(content='算法', function_call=None, refusal=None, role=None, tool_calls=None)\n",
      "ChoiceDelta(content='讲解', function_call=None, refusal=None, role=None, tool_calls=None)\n",
      "ChoiceDelta(content='、', function_call=None, refusal=None, role=None, tool_calls=None)\n",
      "ChoiceDelta(content='项目', function_call=None, refusal=None, role=None, tool_calls=None)\n",
      "ChoiceDelta(content='建议', function_call=None, refusal=None, role=None, tool_calls=None)\n",
      "ChoiceDelta(content='  \\n', function_call=None, refusal=None, role=None, tool_calls=None)\n",
      "ChoiceDelta(content='✅', function_call=None, refusal=None, role=None, tool_calls=None)\n",
      "ChoiceDelta(content=' **', function_call=None, refusal=None, role=None, tool_calls=None)\n",
      "ChoiceDelta(content='生活', function_call=None, refusal=None, role=None, tool_calls=None)\n",
      "ChoiceDelta(content=' &', function_call=None, refusal=None, role=None, tool_calls=None)\n",
      "ChoiceDelta(content=' ', function_call=None, refusal=None, role=None, tool_calls=None)\n",
      "ChoiceDelta(content='娱乐', function_call=None, refusal=None, role=None, tool_calls=None)\n",
      "ChoiceDelta(content='**', function_call=None, refusal=None, role=None, tool_calls=None)\n",
      "ChoiceDelta(content='：', function_call=None, refusal=None, role=None, tool_calls=None)\n",
      "ChoiceDelta(content='旅行', function_call=None, refusal=None, role=None, tool_calls=None)\n",
      "ChoiceDelta(content='攻略', function_call=None, refusal=None, role=None, tool_calls=None)\n",
      "ChoiceDelta(content='、', function_call=None, refusal=None, role=None, tool_calls=None)\n",
      "ChoiceDelta(content='电影', function_call=None, refusal=None, role=None, tool_calls=None)\n",
      "ChoiceDelta(content='推荐', function_call=None, refusal=None, role=None, tool_calls=None)\n",
      "ChoiceDelta(content='、', function_call=None, refusal=None, role=None, tool_calls=None)\n",
      "ChoiceDelta(content='聊天', function_call=None, refusal=None, role=None, tool_calls=None)\n",
      "ChoiceDelta(content='陪伴', function_call=None, refusal=None, role=None, tool_calls=None)\n",
      "ChoiceDelta(content='  \\n\\n', function_call=None, refusal=None, role=None, tool_calls=None)\n",
      "ChoiceDelta(content='你可以', function_call=None, refusal=None, role=None, tool_calls=None)\n",
      "ChoiceDelta(content='随时', function_call=None, refusal=None, role=None, tool_calls=None)\n",
      "ChoiceDelta(content='向我', function_call=None, refusal=None, role=None, tool_calls=None)\n",
      "ChoiceDelta(content='提问', function_call=None, refusal=None, role=None, tool_calls=None)\n",
      "ChoiceDelta(content='，', function_call=None, refusal=None, role=None, tool_calls=None)\n",
      "ChoiceDelta(content='我会', function_call=None, refusal=None, role=None, tool_calls=None)\n",
      "ChoiceDelta(content='尽力', function_call=None, refusal=None, role=None, tool_calls=None)\n",
      "ChoiceDelta(content='提供', function_call=None, refusal=None, role=None, tool_calls=None)\n",
      "ChoiceDelta(content=' **', function_call=None, refusal=None, role=None, tool_calls=None)\n",
      "ChoiceDelta(content='专业', function_call=None, refusal=None, role=None, tool_calls=None)\n",
      "ChoiceDelta(content='、', function_call=None, refusal=None, role=None, tool_calls=None)\n",
      "ChoiceDelta(content='准确', function_call=None, refusal=None, role=None, tool_calls=None)\n",
      "ChoiceDelta(content='、', function_call=None, refusal=None, role=None, tool_calls=None)\n",
      "ChoiceDelta(content='友好', function_call=None, refusal=None, role=None, tool_calls=None)\n",
      "ChoiceDelta(content='**', function_call=None, refusal=None, role=None, tool_calls=None)\n",
      "ChoiceDelta(content=' ', function_call=None, refusal=None, role=None, tool_calls=None)\n",
      "ChoiceDelta(content='的帮助', function_call=None, refusal=None, role=None, tool_calls=None)\n",
      "ChoiceDelta(content='！', function_call=None, refusal=None, role=None, tool_calls=None)\n",
      "ChoiceDelta(content='🎉', function_call=None, refusal=None, role=None, tool_calls=None)\n",
      "ChoiceDelta(content=' ', function_call=None, refusal=None, role=None, tool_calls=None)\n",
      "ChoiceDelta(content='今天', function_call=None, refusal=None, role=None, tool_calls=None)\n",
      "ChoiceDelta(content='有什么', function_call=None, refusal=None, role=None, tool_calls=None)\n",
      "ChoiceDelta(content='我可以', function_call=None, refusal=None, role=None, tool_calls=None)\n",
      "ChoiceDelta(content='帮', function_call=None, refusal=None, role=None, tool_calls=None)\n",
      "ChoiceDelta(content='你的', function_call=None, refusal=None, role=None, tool_calls=None)\n",
      "ChoiceDelta(content='吗', function_call=None, refusal=None, role=None, tool_calls=None)\n",
      "ChoiceDelta(content='？', function_call=None, refusal=None, role=None, tool_calls=None)\n",
      "ChoiceDelta(content='', function_call=None, refusal=None, role=None, tool_calls=None)\n"
     ]
    }
   ],
   "source": [
    "from openai import OpenAI\n",
    "client = OpenAI( base_url=\"https://api.deepseek.com\",api_key=DeepSeek_API_KEY)\n",
    "\n",
    "completion = client.chat.completions.create(\n",
    "  model=\"deepseek-chat\",\n",
    "  messages=[\n",
    "    {\"role\": \"system\", \"content\": \"你是一位乐于助人的人工智能小助理。\"},\n",
    "    {\"role\": \"user\", \"content\": \"你好，请你介绍一下你自己。\"}\n",
    "  ],\n",
    "  stream=True\n",
    ")\n",
    "\n",
    "for chunk in completion:\n",
    "  print(chunk.choices[0].delta)"
   ]
  },
  {
   "cell_type": "markdown",
   "id": "a772b45e-491e-45ad-b37a-a2424dd758c5",
   "metadata": {},
   "source": [
    "&emsp;&emsp;从输出上看，每个 `ChoiceDelta` 对象代表了大模型生成的一小段文本。所以很明显，这种流式调用的方式可以让我们看到 `DeepSeek` 模型是如何一步一步构建出最终的回答的。例如，从 \"你好\" 开始，接着是 \"！\"，然后是 \"我是\"，一直到整个回答完整地构建出来，每个 `ChoiceDelta` 可能包含几个字符到一个或几个词。"
   ]
  },
  {
   "cell_type": "markdown",
   "id": "ef0d8af1-b489-474f-a4f6-1229bd5d50ce",
   "metadata": {},
   "source": [
    "&emsp;&emsp;接下来，我们还是重点关注`LangGraph`中的流式输出应用方法。"
   ]
  },
  {
   "cell_type": "markdown",
   "id": "b372a9ca-fe47-4647-9567-efcfcdb4e762",
   "metadata": {},
   "source": [
    "&emsp;&emsp;因为`LangGraph`框架的底层和 `LangChain`一样都是基于`LCEL`语法而构建的，所有直接把`LangChain`中的回调系统拿过来便可以使用。**在`LangChain`中的流式输出是：以块的形式传输最终输出，即一旦监测到有可用的块，就直接生成它。** 如下流程所示："
   ]
  },
  {
   "cell_type": "code",
   "execution_count": 31,
   "id": "200e55f8-48ec-454c-99f8-fb8a8a2128d9",
   "metadata": {},
   "outputs": [],
   "source": [
    "model = init_chat_model(model=\"deepseek-chat\", model_provider=\"deepseek\")  "
   ]
  },
  {
   "cell_type": "code",
   "execution_count": 32,
   "id": "a8f02263-facf-41bf-b691-2b3ae42e7a28",
   "metadata": {},
   "outputs": [
    {
     "name": "stdout",
     "output_type": "stream",
     "text": [
      "|你好|！|我是| **|Deep|Se|ek| Chat|**|，|由|深度|求|索|（|Deep|Se|ek|）|公司|研发|的一款|智能|对话|助手|。|我可以|帮助你|解答|问题|、|提供|建议|、|分析|数据|、|写作|辅助|、|编程|支持|等|，|还能|处理|上传|的文件|（|如|PDF|、|Word|、|Excel|等|）。|以下|是一些|关于|我的|详细信息|：\n",
      "\n",
      "|###| 🌟| **|我的|特点|**\n",
      "|1|.| **|知识|广|博|**|  \n",
      "|  | -| |我的|知识|截止|到|**|202|4|年|7|月|**|，|覆盖|科技|、|历史|、|文学|、|金融|、|医学|等多个|领域|。|  \n",
      "|  | -| |我能|提供|**|专业|、|准确|**|的信息|，|并|尽量|引用|可靠|来源|（|但|建议|你|交叉|验证|关键|信息|）。|  \n",
      "\n",
      "|2|.| **|超|长|上下文|理解|（|128|K|）|**|  \n",
      "|  | -| |可以|记住|并|分析|超|长|对话|或|文档|，|适合|处理|复杂|问题|、|论文|阅读|、|代码|分析|等|。|  \n",
      "\n",
      "|3|.| **|文件|阅读|与分析|**|  \n",
      "|  | -| |支持|上传| **|PDF|、|Word|、|Excel|、|PPT|、|T|XT|**| |等|文件|，|并|从中|提取|关键|信息|、|总结|内容|或|回答|相关问题|。|  \n",
      "\n",
      "|4|.| **|免费|使用|**|  \n",
      "|  | -| |目前|**|无需|付费|**|，|你可以|随时|向我|提问|，|我会|尽力|提供|帮助|！|  \n",
      "\n",
      "|5|.| **|多|语言|支持|**|  \n",
      "|  | -| |我|可以用|**|中文|、|英文|、|法语|、|德语|、|日语|**|等多种|语言|交流|，|并|帮助|翻译|或|润|色|文本|。|  \n",
      "\n",
      "|6|.| **|编程|与|技术支持|**|  \n",
      "|  | -| |熟悉| **|Python|、|C|++|、|Java|、|SQL|、|HTML|/C|SS|**| |等多种|编程|语言|，|能|帮助|调试|代码|、|优化|算法|或|讲解|技术|概念|。|  \n",
      "\n",
      "|###| 🚀| **|我能|帮你|做什么|？|**\n",
      "|✅| **|学习|与研究|**|：|解答|学术|问题|、|论文|阅读|、|知识|梳理|。|  \n",
      "|✅| **|写作|与|创意|**|：|文章|撰写|、|文案|优化|、|故事|创作|、|诗歌|生成|。|  \n",
      "|✅| **|办公|与|效率|**|：|文档|总结|、|数据分析|、|PPT|大纲|、|邮件|撰写|。|  \n",
      "|✅| **|编程|与技术|**|：|代码|调试|、|算法|讲解|、|技术|文档|解读|。|  \n",
      "|✅| **|生活|与|娱乐|**|：|旅行|建议|、|电影|推荐|、|心理|疏导|、|趣味|冷|知识|。|  \n",
      "\n",
      "|###| 📂| **|文件|处理|示例|**\n",
      "|如果你|上传|一份| **|PDF| |论文|**|，|我可以|：\n",
      "|-| |总结|核心|观点|  \n",
      "|-| |解释|专业|术语|  \n",
      "|-| |回答|关于|论文|的|细节|问题|  \n",
      "\n",
      "|如果你|上传| **|Excel| |表格|**|，|我可以|：\n",
      "|-| |分析|数据|趋势|  \n",
      "|-| |生成|统计|摘要|  \n",
      "|-| |提供|可视化|建议|  \n",
      "\n",
      "|###| ❤|️| **|我的|局限|**\n",
      "|-| **|不|联网|**|（|知识|截止|202|4|年|7|月|，|无法|提供|实时|信息|）。|  \n",
      "|-| **|不|涉及|医疗|诊断|、|法律|建议|**|（|仅|提供|一般|性|参考|）。|  \n",
      "|-| **|不会|生成|图片|/|音频|**|（|但|可以|描述|或|推荐|工具|）。|  \n",
      "\n",
      "|如果你|有任何|问题|，|尽管|问我|！|😊| |你今天|想|了解|什么|？||"
     ]
    }
   ],
   "source": [
    "chunks = []\n",
    "async for chunk in model.astream(\"你好，请你详细的介绍一下你自己。\"):\n",
    "    chunks.append(chunk)\n",
    "    print(chunk.content, end=\"|\", flush=True)"
   ]
  },
  {
   "cell_type": "code",
   "execution_count": 33,
   "id": "b957d2b9-a908-4749-b792-85e6b495b74c",
   "metadata": {},
   "outputs": [
    {
     "data": {
      "text/plain": [
       "AIMessageChunk(content='', additional_kwargs={}, response_metadata={}, id='run--c679d705-22fe-4713-9f2b-11bdd70fc43b')"
      ]
     },
     "execution_count": 33,
     "metadata": {},
     "output_type": "execute_result"
    }
   ],
   "source": [
    "chunks[0]"
   ]
  },
  {
   "cell_type": "markdown",
   "id": "6577925a-d3e6-4cc1-9aab-2ecd6621869f",
   "metadata": {},
   "source": [
    "&emsp;&emsp;每一个块，都是一个`AIMessageChunk`对象，用来代表`AIMessage`对象的一部分。消息块在设计上是可加的，比如："
   ]
  },
  {
   "cell_type": "code",
   "execution_count": 34,
   "id": "d3a22688-2063-4151-892b-b1b579e07f0e",
   "metadata": {},
   "outputs": [
    {
     "data": {
      "text/plain": [
       "AIMessageChunk(content='你好！我是 **', additional_kwargs={}, response_metadata={}, id='run--c679d705-22fe-4713-9f2b-11bdd70fc43b')"
      ]
     },
     "execution_count": 34,
     "metadata": {},
     "output_type": "execute_result"
    }
   ],
   "source": [
    "chunks[0] + chunks[1] + chunks[2] + chunks[3] + chunks[4]"
   ]
  },
  {
   "cell_type": "markdown",
   "id": "78c4e920-29f2-4fb8-a869-4ccc05512dcf",
   "metadata": {},
   "source": [
    "&emsp;&emsp;`LangGraph`框架中的工作流中由各个步骤的节点和边组成。这里的流式传输涉及在各个节点请求更新时跟踪图状态的变化。这样可以更精细地监控工作流中当前处于活动状态的节点，并在工作流经过不同阶段时提供有关工作流状态的实时更新。其实现方式也是和`LangChain`一样通过`.stream`和`.astream`方法执行流式输出，只不过适配到了图结构中。调用`.stream`和`.astream`方法时可以指定几种不同的模式，即：\n",
    "\n",
    "- **values** ：在图中的每个步骤之后流式传输**状态**的完整值。\n",
    "- **updates** ：在图中的每个步骤之后将更新流式传输到状态。如果在同一步骤中进行多个更新（例如运行多个节点），则这些更新将单独流式传输。\n",
    "- **debug** ：在整个图的执行过程中流式传输尽可能多的信息，主要用于调试程序。\n",
    "- **messages**：记录每个`messages`中的增量`token`。\n",
    "- **custom**：自定义流，通过`LangGraph 的 StreamWriter`方法实现。"
   ]
  },
  {
   "cell_type": "markdown",
   "id": "82383a6d-95c9-4118-9fe6-c545847746a7",
   "metadata": {},
   "source": [
    "<div align=center><img src=\"https://muyu001.oss-cn-beijing.aliyuncs.com/img/image-20241028182221186.png\" width=80%></div>"
   ]
  },
  {
   "cell_type": "markdown",
   "id": "d4fdcf0d-b5f5-428f-adf0-66085159b2fb",
   "metadata": {},
   "source": [
    "&emsp;&emsp;如果我们想流式传输每个过程中的 `Tokens`，对当前图："
   ]
  },
  {
   "cell_type": "code",
   "execution_count": 35,
   "id": "d9c5e7e3-8bd1-4eb2-8bc7-c2ebb42e8267",
   "metadata": {},
   "outputs": [
    {
     "data": {
      "image/png": "[encoded data removed]",
      "text/plain": [
       "<IPython.core.display.Image object>"
      ]
     },
     "metadata": {},
     "output_type": "display_data"
    }
   ],
   "source": [
    "from IPython.display import Image, display\n",
    "\n",
    "display(Image(graph.get_graph().draw_mermaid_png()))"
   ]
  },
  {
   "cell_type": "markdown",
   "id": "aa4abd57-bdac-499d-b519-fa8104a19586",
   "metadata": {},
   "source": [
    "&emsp;&emsp;这里调用`graph.stream`和`graph.astream`方法时, 指定模式为`messages`，即流式传输每个过程中的 `Tokens`。代码如下："
   ]
  },
  {
   "cell_type": "code",
   "execution_count": 36,
   "id": "c0a4e61c-0838-43e8-ac3b-82e5f04fd228",
   "metadata": {},
   "outputs": [
    {
     "name": "stdout",
     "output_type": "stream",
     "text": [
      "你好！我是 **DeepSeek Chat**，由 **深度求索（DeepSeek）** 研发的一款 **智能AI助手**。我可以帮助你解答问题、提供信息、协助创作、分析数据等，致力于成为你的高效智能伙伴。以下是我的详细介绍：\n",
      "\n",
      "---\n",
      "\n",
      "### 🌟 **我的特点**\n",
      "1. **知识丰富**  \n",
      "   - 我的知识截止到 **2024年7月**，覆盖科技、历史、文学、经济、医学等多个领域。  \n",
      "   - 支持 **128K 上下文**，能理解和处理超长文本，比如论文、书籍、复杂代码等。  \n",
      "\n",
      "2. **文件阅读与分析**  \n",
      "   - 支持上传 **PDF、Word、Excel、PPT、TXT** 等文件，并从中提取关键信息进行分析。  \n",
      "   - 可以帮助你总结文档、翻译、提取数据，甚至解析代码。  \n",
      "\n",
      "3. **多语言支持**  \n",
      "   - 精通 **中英文**，也能处理法语、德语、日语等多种语言的文本。  \n",
      "   - 适用于翻译、润色、外语学习等场景。  \n",
      "\n",
      "4. **编程助手**  \n",
      "   - 熟悉 **Python、Java、C++、SQL、JavaScript** 等多种编程语言，能帮你调试代码、优化算法、解释技术概念。  \n",
      "   - 可以解析 **LeetCode** 题目，提供解题思路和代码示例。  \n",
      "\n",
      "5. **创意与写作**  \n",
      "   - 擅长 **写作辅助**，包括小说、论文、商业文案、邮件撰写等。  \n",
      "   - 能模仿不同风格，如正式报告、轻松幽默的对话等。  \n",
      "\n",
      "6. **免费使用**  \n",
      "   - 目前 **无需付费**，你可以随时向我提问，我会尽力提供高质量的回答！  \n",
      "\n",
      "---\n",
      "\n",
      "### 🛠 **我能帮你做什么？**\n",
      "✅ **学习与研究**：解答学术问题、论文润色、知识点解析。  \n",
      "✅ **办公效率**：总结报告、制作PPT大纲、处理Excel数据。  \n",
      "✅ **编程与技术**：代码调试、算法优化、技术文档解读。  \n",
      "✅ **生活助手**：旅行规划、健康建议、美食推荐。  \n",
      "✅ **娱乐创意**：写故事、生成诗歌、聊天解闷。  \n",
      "\n",
      "---\n",
      "\n",
      "### 📂 **文件处理示例**\n",
      "你可以上传一份 **PDF 论文**，让我：  \n",
      "📌 **总结核心观点**  \n",
      "📌 **提取关键数据**  \n",
      "📌 **翻译成英文/中文**  \n",
      "📌 **分析研究方法和结论**  \n",
      "\n",
      "或者上传 **Excel 表格**，让我：  \n",
      "📊 **计算统计数据**  \n",
      "📈 **生成可视化建议**  \n",
      "🔍 **查找异常值**  \n",
      "\n",
      "---\n",
      "\n",
      "### 🔍 **我和其他AI有什么不同？**\n",
      "- **超长上下文**：能记住并分析更长的对话和文档，减少信息丢失。  \n",
      "- **精准实用**：回答更注重逻辑和事实，避免无意义的“车轱辘话”。  \n",
      "- **持续进化**：团队在持续优化我的能力，未来会有更强的表现！  \n",
      "\n",
      "---\n",
      "\n",
      "💡 **你可以问我任何问题**，比如：  \n",
      "- “帮我写一封求职信。”  \n",
      "- “Python 如何用 Pandas 处理大数据？”  \n",
      "- “《百年孤独》讲的是什么？”  \n",
      "- “请分析我上传的这份财报。”  \n",
      "\n",
      "试试看，我会尽力帮你！😊"
     ]
    }
   ],
   "source": [
    "from langchain_core.messages import HumanMessage\n",
    "\n",
    "async for msg, metadata in graph.astream({\"messages\": [\"你好，请你详细的介绍一下你自己\"]}, stream_mode=\"messages\"):\n",
    "    if msg.content and not isinstance(msg, HumanMessage):\n",
    "        print(msg.content, end=\"\", flush=True)"
   ]
  },
  {
   "cell_type": "markdown",
   "id": "3c102c12-029e-4773-b4cd-2e65ee1b0dc8",
   "metadata": {},
   "source": [
    "&emsp;&emsp;掌握`State`的定义模式和消息传递是`LangGraph`中最关键，也是构建应用最核心的部分，所有的高阶功能，如工具调用、上下文记忆，人机交互等依赖`State`的管理和使用，所以大家务必理解并掌握上述相关内容。这一部分我们在下一节课中展开详细的介绍，接下来我们先给大家介绍一个实用的开发工具：LangSmith。"
   ]
  }
 ],
 "metadata": {
  "kernelspec": {
   "display_name": "Python 3 (ipykernel)",
   "language": "python",
   "name": "python3"
  },
  "language_info": {
   "codemirror_mode": {
    "name": "ipython",
    "version": 3
   },
   "file_extension": ".py",
   "mimetype": "text/x-python",
   "name": "python",
   "nbconvert_exporter": "python",
   "pygments_lexer": "ipython3",
   "version": "3.12.9"
  }
 },
 "nbformat": 4,
 "nbformat_minor": 5
}
